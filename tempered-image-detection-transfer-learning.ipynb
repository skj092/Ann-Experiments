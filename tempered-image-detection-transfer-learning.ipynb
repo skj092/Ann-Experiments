{
 "cells": [
  {
   "cell_type": "markdown",
   "id": "ea8fb984",
   "metadata": {
    "papermill": {
     "duration": 0.003558,
     "end_time": "2022-11-21T11:57:17.895960",
     "exception": false,
     "start_time": "2022-11-21T11:57:17.892402",
     "status": "completed"
    },
    "tags": []
   },
   "source": [
    "# Preprocess Data"
   ]
  },
  {
   "cell_type": "code",
   "execution_count": 1,
   "id": "6baf20a5",
   "metadata": {
    "execution": {
     "iopub.execute_input": "2022-11-21T11:57:17.904207Z",
     "iopub.status.busy": "2022-11-21T11:57:17.903176Z",
     "iopub.status.idle": "2022-11-21T11:57:17.920674Z",
     "shell.execute_reply": "2022-11-21T11:57:17.919710Z"
    },
    "papermill": {
     "duration": 0.024008,
     "end_time": "2022-11-21T11:57:17.923008",
     "exception": false,
     "start_time": "2022-11-21T11:57:17.899000",
     "status": "completed"
    },
    "tags": []
   },
   "outputs": [],
   "source": [
    "# converting image to ela image\n",
    "from glob import glob \n",
    "from tqdm import tqdm\n",
    "from PIL import Image, ImageChops, ImageEnhance\n",
    "import os \n",
    "\n",
    "def convert_to_ela_image(image_path, quality=90):\n",
    "    \"\"\"Converts an image to an ELA image.\n",
    "    :param image_path: Path to the image\n",
    "    :param quality: Quality of the image to be saved\n",
    "    :return: ELA image\n",
    "    \"\"\"\n",
    "    # Save the image at the given quality\n",
    "    temp_file = 'temp.jpg'\n",
    "    im = Image.open(image_path)\n",
    "    im.save(temp_file, 'JPEG', quality=quality)\n",
    "\n",
    "    # Open the saved image and the original image\n",
    "    saved = Image.open(temp_file)\n",
    "    orignal = Image.open(image_path)\n",
    "\n",
    "    # Find the absolute difference between the images\n",
    "    diff = ImageChops.difference(orignal, saved)\n",
    "\n",
    "    # Normalize the difference by multiplying with a scale factor and convert to grayscale\n",
    "    extrema = diff.getextrema()\n",
    "    max_diff = max([ex[1] for ex in extrema])\n",
    "    scale = 255.0 / max_diff\n",
    "    diff = ImageEnhance.Brightness(diff).enhance(scale)\n",
    "\n",
    "    # Remove the temporary file\n",
    "    os.remove(temp_file)\n",
    "\n",
    "    return diff"
   ]
  },
  {
   "cell_type": "code",
   "execution_count": 2,
   "id": "389c3bc1",
   "metadata": {
    "execution": {
     "iopub.execute_input": "2022-11-21T11:57:17.929683Z",
     "iopub.status.busy": "2022-11-21T11:57:17.929426Z",
     "iopub.status.idle": "2022-11-21T11:57:18.127461Z",
     "shell.execute_reply": "2022-11-21T11:57:18.126387Z"
    },
    "papermill": {
     "duration": 0.203932,
     "end_time": "2022-11-21T11:57:18.129736",
     "exception": false,
     "start_time": "2022-11-21T11:57:17.925804",
     "status": "completed"
    },
    "tags": []
   },
   "outputs": [
    {
     "name": "stdout",
     "output_type": "stream",
     "text": [
      "Total images:  9418\n"
     ]
    }
   ],
   "source": [
    "# all iamges\n",
    "images = glob('../input/casia-dataset/CASIA2/*/*.jpg')\n",
    "print('Total images: ', len(images))"
   ]
  },
  {
   "cell_type": "markdown",
   "id": "327c7220",
   "metadata": {
    "papermill": {
     "duration": 0.002722,
     "end_time": "2022-11-21T11:57:18.135575",
     "exception": false,
     "start_time": "2022-11-21T11:57:18.132853",
     "status": "completed"
    },
    "tags": []
   },
   "source": [
    "# Converting to ELA images"
   ]
  },
  {
   "cell_type": "code",
   "execution_count": 3,
   "id": "eaf52edc",
   "metadata": {
    "execution": {
     "iopub.execute_input": "2022-11-21T11:57:18.142604Z",
     "iopub.status.busy": "2022-11-21T11:57:18.142313Z",
     "iopub.status.idle": "2022-11-21T12:01:44.519578Z",
     "shell.execute_reply": "2022-11-21T12:01:44.518502Z"
    },
    "papermill": {
     "duration": 266.383385,
     "end_time": "2022-11-21T12:01:44.521703",
     "exception": false,
     "start_time": "2022-11-21T11:57:18.138318",
     "status": "completed"
    },
    "tags": []
   },
   "outputs": [
    {
     "name": "stderr",
     "output_type": "stream",
     "text": [
      "100%|██████████| 9418/9418 [04:26<00:00, 35.36it/s]\n"
     ]
    }
   ],
   "source": [
    "# converting images to ela images\n",
    "for image in tqdm(images):\n",
    "    # converting image to ela image\n",
    "    ela_image = convert_to_ela_image(image)\n",
    "    # creating a new directory for ela images\n",
    "    if not os.path.exists('/CASIA2_ELA'):\n",
    "        os.mkdir('/CASIA2_ELA')\n",
    "    ela_image.save('/CASIA2_ELA/' + image.split('/')[-1])"
   ]
  },
  {
   "cell_type": "markdown",
   "id": "185965ed",
   "metadata": {
    "papermill": {
     "duration": 0.104673,
     "end_time": "2022-11-21T12:01:44.732243",
     "exception": false,
     "start_time": "2022-11-21T12:01:44.627570",
     "status": "completed"
    },
    "tags": []
   },
   "source": [
    "# Importing Fastai "
   ]
  },
  {
   "cell_type": "code",
   "execution_count": 4,
   "id": "cb4a1a07",
   "metadata": {
    "_cell_guid": "b1076dfc-b9ad-4769-8c92-a6c4dae69d19",
    "_uuid": "8f2839f25d086af736a60e9eeb907d3b93b6e0e5",
    "execution": {
     "iopub.execute_input": "2022-11-21T12:01:44.945564Z",
     "iopub.status.busy": "2022-11-21T12:01:44.945180Z",
     "iopub.status.idle": "2022-11-21T12:01:48.602254Z",
     "shell.execute_reply": "2022-11-21T12:01:48.601159Z"
    },
    "papermill": {
     "duration": 3.777944,
     "end_time": "2022-11-21T12:01:48.614006",
     "exception": false,
     "start_time": "2022-11-21T12:01:44.836062",
     "status": "completed"
    },
    "tags": []
   },
   "outputs": [],
   "source": [
    "from fastai.vision.all import * "
   ]
  },
  {
   "cell_type": "code",
   "execution_count": 5,
   "id": "ba32c919",
   "metadata": {
    "execution": {
     "iopub.execute_input": "2022-11-21T12:01:48.854813Z",
     "iopub.status.busy": "2022-11-21T12:01:48.854293Z",
     "iopub.status.idle": "2022-11-21T12:01:48.886476Z",
     "shell.execute_reply": "2022-11-21T12:01:48.885386Z"
    },
    "papermill": {
     "duration": 0.138299,
     "end_time": "2022-11-21T12:01:48.889175",
     "exception": false,
     "start_time": "2022-11-21T12:01:48.750876",
     "status": "completed"
    },
    "tags": []
   },
   "outputs": [
    {
     "data": {
      "text/plain": [
       "(#9418) [Path('Tp_D_NRN_M_B_art00045_pla00088_10745.jpg'),Path('Au_nat_30257.jpg'),Path('Au_ind_00027.jpg'),Path('Au_pla_30366.jpg'),Path('Au_sec_10105.jpg'),Path('Tp_D_NRN_S_N_nat10159_ani00058_12051.jpg'),Path('Tp_D_NRN_M_N_sec00064_cha00070_11408.jpg'),Path('Au_art_30675.jpg'),Path('Au_sec_30351.jpg'),Path('Au_arc_30220.jpg')...]"
      ]
     },
     "execution_count": 5,
     "metadata": {},
     "output_type": "execute_result"
    }
   ],
   "source": [
    "path = Path('/CASIA2_ELA')\n",
    "Path.BASE_PATH = path\n",
    "path.ls()"
   ]
  },
  {
   "cell_type": "markdown",
   "id": "14e54cbc",
   "metadata": {
    "papermill": {
     "duration": 0.10305,
     "end_time": "2022-11-21T12:01:49.095948",
     "exception": false,
     "start_time": "2022-11-21T12:01:48.992898",
     "status": "completed"
    },
    "tags": []
   },
   "source": [
    "# DataBloack and DataLoader"
   ]
  },
  {
   "cell_type": "code",
   "execution_count": 6,
   "id": "b6ff8c59",
   "metadata": {
    "execution": {
     "iopub.execute_input": "2022-11-21T12:01:49.363882Z",
     "iopub.status.busy": "2022-11-21T12:01:49.363539Z",
     "iopub.status.idle": "2022-11-21T12:01:53.197459Z",
     "shell.execute_reply": "2022-11-21T12:01:53.196377Z"
    },
    "papermill": {
     "duration": 3.941187,
     "end_time": "2022-11-21T12:01:53.200087",
     "exception": false,
     "start_time": "2022-11-21T12:01:49.258900",
     "status": "completed"
    },
    "tags": []
   },
   "outputs": [],
   "source": [
    "# function to get labels\n",
    "def get_label(x): return x.name.split('_')[0]\n",
    "\n",
    "# creating a datablock\n",
    "dblock = DataBlock(blocks=(ImageBlock, CategoryBlock),\n",
    "                        get_items=get_image_files,\n",
    "                        splitter=RandomSplitter(valid_pct=0.2, seed=42),\n",
    "                        get_y=get_label,\n",
    "                        item_tfms=Resize(224))\n",
    "                    \n",
    "# creating a dataloader\n",
    "dls = dblock.dataloaders(path)"
   ]
  },
  {
   "cell_type": "markdown",
   "id": "5fe0e038",
   "metadata": {
    "papermill": {
     "duration": 0.191367,
     "end_time": "2022-11-21T12:01:53.510247",
     "exception": false,
     "start_time": "2022-11-21T12:01:53.318880",
     "status": "completed"
    },
    "tags": []
   },
   "source": [
    "# Resnet18"
   ]
  },
  {
   "cell_type": "code",
   "execution_count": 7,
   "id": "9fcf2a0c",
   "metadata": {
    "execution": {
     "iopub.execute_input": "2022-11-21T12:01:53.842130Z",
     "iopub.status.busy": "2022-11-21T12:01:53.841773Z",
     "iopub.status.idle": "2022-11-21T12:06:07.448651Z",
     "shell.execute_reply": "2022-11-21T12:06:07.447592Z"
    },
    "papermill": {
     "duration": 253.773313,
     "end_time": "2022-11-21T12:06:07.450826",
     "exception": false,
     "start_time": "2022-11-21T12:01:53.677513",
     "status": "completed"
    },
    "tags": []
   },
   "outputs": [
    {
     "name": "stderr",
     "output_type": "stream",
     "text": [
      "Downloading: \"https://download.pytorch.org/models/resnet18-f37072fd.pth\" to /root/.cache/torch/hub/checkpoints/resnet18-f37072fd.pth\n"
     ]
    },
    {
     "data": {
      "application/vnd.jupyter.widget-view+json": {
       "model_id": "b3c3062d132543ee801d61ace1091ee5",
       "version_major": 2,
       "version_minor": 0
      },
      "text/plain": [
       "  0%|          | 0.00/44.7M [00:00<?, ?B/s]"
      ]
     },
     "metadata": {},
     "output_type": "display_data"
    },
    {
     "data": {
      "text/html": [
       "\n",
       "<style>\n",
       "    /* Turns off some styling */\n",
       "    progress {\n",
       "        /* gets rid of default border in Firefox and Opera. */\n",
       "        border: none;\n",
       "        /* Needs to be in here for Safari polyfill so background images work as expected. */\n",
       "        background-size: auto;\n",
       "    }\n",
       "    progress:not([value]), progress:not([value])::-webkit-progress-bar {\n",
       "        background: repeating-linear-gradient(45deg, #7e7e7e, #7e7e7e 10px, #5c5c5c 10px, #5c5c5c 20px);\n",
       "    }\n",
       "    .progress-bar-interrupted, .progress-bar-interrupted::-webkit-progress-bar {\n",
       "        background: #F44336;\n",
       "    }\n",
       "</style>\n"
      ],
      "text/plain": [
       "<IPython.core.display.HTML object>"
      ]
     },
     "metadata": {},
     "output_type": "display_data"
    },
    {
     "data": {
      "text/html": [
       "<table border=\"1\" class=\"dataframe\">\n",
       "  <thead>\n",
       "    <tr style=\"text-align: left;\">\n",
       "      <th>epoch</th>\n",
       "      <th>train_loss</th>\n",
       "      <th>valid_loss</th>\n",
       "      <th>accuracy</th>\n",
       "      <th>time</th>\n",
       "    </tr>\n",
       "  </thead>\n",
       "  <tbody>\n",
       "    <tr>\n",
       "      <td>0</td>\n",
       "      <td>0.559847</td>\n",
       "      <td>0.280136</td>\n",
       "      <td>0.904408</td>\n",
       "      <td>00:54</td>\n",
       "    </tr>\n",
       "  </tbody>\n",
       "</table>"
      ],
      "text/plain": [
       "<IPython.core.display.HTML object>"
      ]
     },
     "metadata": {},
     "output_type": "display_data"
    },
    {
     "data": {
      "text/html": [
       "\n",
       "<style>\n",
       "    /* Turns off some styling */\n",
       "    progress {\n",
       "        /* gets rid of default border in Firefox and Opera. */\n",
       "        border: none;\n",
       "        /* Needs to be in here for Safari polyfill so background images work as expected. */\n",
       "        background-size: auto;\n",
       "    }\n",
       "    progress:not([value]), progress:not([value])::-webkit-progress-bar {\n",
       "        background: repeating-linear-gradient(45deg, #7e7e7e, #7e7e7e 10px, #5c5c5c 10px, #5c5c5c 20px);\n",
       "    }\n",
       "    .progress-bar-interrupted, .progress-bar-interrupted::-webkit-progress-bar {\n",
       "        background: #F44336;\n",
       "    }\n",
       "</style>\n"
      ],
      "text/plain": [
       "<IPython.core.display.HTML object>"
      ]
     },
     "metadata": {},
     "output_type": "display_data"
    },
    {
     "data": {
      "text/html": [
       "<table border=\"1\" class=\"dataframe\">\n",
       "  <thead>\n",
       "    <tr style=\"text-align: left;\">\n",
       "      <th>epoch</th>\n",
       "      <th>train_loss</th>\n",
       "      <th>valid_loss</th>\n",
       "      <th>accuracy</th>\n",
       "      <th>time</th>\n",
       "    </tr>\n",
       "  </thead>\n",
       "  <tbody>\n",
       "    <tr>\n",
       "      <td>0</td>\n",
       "      <td>0.279894</td>\n",
       "      <td>0.166795</td>\n",
       "      <td>0.935210</td>\n",
       "      <td>00:48</td>\n",
       "    </tr>\n",
       "    <tr>\n",
       "      <td>1</td>\n",
       "      <td>0.178742</td>\n",
       "      <td>0.130508</td>\n",
       "      <td>0.945300</td>\n",
       "      <td>00:49</td>\n",
       "    </tr>\n",
       "    <tr>\n",
       "      <td>2</td>\n",
       "      <td>0.103417</td>\n",
       "      <td>0.100365</td>\n",
       "      <td>0.963356</td>\n",
       "      <td>00:48</td>\n",
       "    </tr>\n",
       "    <tr>\n",
       "      <td>3</td>\n",
       "      <td>0.071303</td>\n",
       "      <td>0.097242</td>\n",
       "      <td>0.967605</td>\n",
       "      <td>00:49</td>\n",
       "    </tr>\n",
       "  </tbody>\n",
       "</table>"
      ],
      "text/plain": [
       "<IPython.core.display.HTML object>"
      ]
     },
     "metadata": {},
     "output_type": "display_data"
    }
   ],
   "source": [
    "# creating a vision learner\n",
    "learn = vision_learner(dls, resnet18, metrics=accuracy)\n",
    "\n",
    "# training the model\n",
    "learn.fine_tune(4)"
   ]
  },
  {
   "cell_type": "code",
   "execution_count": 8,
   "id": "5ec3d407",
   "metadata": {
    "execution": {
     "iopub.execute_input": "2022-11-21T12:06:07.664432Z",
     "iopub.status.busy": "2022-11-21T12:06:07.664038Z",
     "iopub.status.idle": "2022-11-21T12:06:25.375090Z",
     "shell.execute_reply": "2022-11-21T12:06:25.373513Z"
    },
    "papermill": {
     "duration": 17.823331,
     "end_time": "2022-11-21T12:06:25.378944",
     "exception": false,
     "start_time": "2022-11-21T12:06:07.555613",
     "status": "completed"
    },
    "tags": []
   },
   "outputs": [
    {
     "data": {
      "text/html": [
       "\n",
       "<style>\n",
       "    /* Turns off some styling */\n",
       "    progress {\n",
       "        /* gets rid of default border in Firefox and Opera. */\n",
       "        border: none;\n",
       "        /* Needs to be in here for Safari polyfill so background images work as expected. */\n",
       "        background-size: auto;\n",
       "    }\n",
       "    progress:not([value]), progress:not([value])::-webkit-progress-bar {\n",
       "        background: repeating-linear-gradient(45deg, #7e7e7e, #7e7e7e 10px, #5c5c5c 10px, #5c5c5c 20px);\n",
       "    }\n",
       "    .progress-bar-interrupted, .progress-bar-interrupted::-webkit-progress-bar {\n",
       "        background: #F44336;\n",
       "    }\n",
       "</style>\n"
      ],
      "text/plain": [
       "<IPython.core.display.HTML object>"
      ]
     },
     "metadata": {},
     "output_type": "display_data"
    },
    {
     "data": {
      "text/html": [],
      "text/plain": [
       "<IPython.core.display.HTML object>"
      ]
     },
     "metadata": {},
     "output_type": "display_data"
    },
    {
     "data": {
      "text/html": [
       "\n",
       "<style>\n",
       "    /* Turns off some styling */\n",
       "    progress {\n",
       "        /* gets rid of default border in Firefox and Opera. */\n",
       "        border: none;\n",
       "        /* Needs to be in here for Safari polyfill so background images work as expected. */\n",
       "        background-size: auto;\n",
       "    }\n",
       "    progress:not([value]), progress:not([value])::-webkit-progress-bar {\n",
       "        background: repeating-linear-gradient(45deg, #7e7e7e, #7e7e7e 10px, #5c5c5c 10px, #5c5c5c 20px);\n",
       "    }\n",
       "    .progress-bar-interrupted, .progress-bar-interrupted::-webkit-progress-bar {\n",
       "        background: #F44336;\n",
       "    }\n",
       "</style>\n"
      ],
      "text/plain": [
       "<IPython.core.display.HTML object>"
      ]
     },
     "metadata": {},
     "output_type": "display_data"
    },
    {
     "data": {
      "text/html": [],
      "text/plain": [
       "<IPython.core.display.HTML object>"
      ]
     },
     "metadata": {},
     "output_type": "display_data"
    },
    {
     "data": {
      "image/png": "[encoded data removed]",
      "text/plain": [
       "<Figure size 432x288 with 1 Axes>"
      ]
     },
     "metadata": {
      "needs_background": "light"
     },
     "output_type": "display_data"
    }
   ],
   "source": [
    "interp = ClassificationInterpretation.from_learner(learn)\n",
    "interp.plot_confusion_matrix()"
   ]
  },
  {
   "cell_type": "code",
   "execution_count": 9,
   "id": "aeebbc32",
   "metadata": {
    "execution": {
     "iopub.execute_input": "2022-11-21T12:06:25.636780Z",
     "iopub.status.busy": "2022-11-21T12:06:25.636460Z",
     "iopub.status.idle": "2022-11-21T12:06:25.728348Z",
     "shell.execute_reply": "2022-11-21T12:06:25.727363Z"
    },
    "papermill": {
     "duration": 0.198634,
     "end_time": "2022-11-21T12:06:25.730856",
     "exception": false,
     "start_time": "2022-11-21T12:06:25.532222",
     "status": "completed"
    },
    "tags": []
   },
   "outputs": [],
   "source": [
    "torch.save(learn.model.state_dict(), './resnet.pth')"
   ]
  }
 ],
 "metadata": {
  "kernelspec": {
   "display_name": "Python 3",
   "language": "python",
   "name": "python3"
  },
  "language_info": {
   "codemirror_mode": {
    "name": "ipython",
    "version": 3
   },
   "file_extension": ".py",
   "mimetype": "text/x-python",
   "name": "python",
   "nbconvert_exporter": "python",
   "pygments_lexer": "ipython3",
   "version": "3.7.12"
  },
  "papermill": {
   "default_parameters": {},
   "duration": 558.717352,
   "end_time": "2022-11-21T12:06:28.277535",
   "environment_variables": {},
   "exception": null,
   "input_path": "__notebook__.ipynb",
   "output_path": "__notebook__.ipynb",
   "parameters": {},
   "start_time": "2022-11-21T11:57:09.560183",
   "version": "2.3.4"
  },
  "widgets": {
   "application/vnd.jupyter.widget-state+json": {
    "state": {
     "2f2b96abc6af49a7a522124d9b495525": {
      "model_module": "@jupyter-widgets/controls",
      "model_module_version": "1.5.0",
      "model_name": "HTMLModel",
      "state": {
       "_dom_classes": [],
       "_model_module": "@jupyter-widgets/controls",
       "_model_module_version": "1.5.0",
       "_model_name": "HTMLModel",
       "_view_count": null,
       "_view_module": "@jupyter-widgets/controls",
       "_view_module_version": "1.5.0",
       "_view_name": "HTMLView",
       "description": "",
       "description_tooltip": null,
       "layout": "IPY_MODEL_42a23924517741d495b2e727c51b1875",
       "placeholder": "​",
       "style": "IPY_MODEL_3d1fcd7476b04cf9aa691bffb450adfe",
       "value": "100%"
      }
     },
     "358cb04e04b84201bec487151fca7ea2": {
      "model_module": "@jupyter-widgets/controls",
      "model_module_version": "1.5.0",
      "model_name": "HTMLModel",
      "state": {
       "_dom_classes": [],
       "_model_module": "@jupyter-widgets/controls",
       "_model_module_version": "1.5.0",
       "_model_name": "HTMLModel",
       "_view_count": null,
       "_view_module": "@jupyter-widgets/controls",
       "_view_module_version": "1.5.0",
       "_view_name": "HTMLView",
       "description": "",
       "description_tooltip": null,
       "layout": "IPY_MODEL_d014a6ceae7d480385c4d3776536966e",
       "placeholder": "​",
       "style": "IPY_MODEL_4b3f37b7aacb4fdbab8b968b5f8ce0a4",
       "value": " 44.7M/44.7M [00:02&lt;00:00, 31.1MB/s]"
      }
     },
     "3d1fcd7476b04cf9aa691bffb450adfe": {
      "model_module": "@jupyter-widgets/controls",
      "model_module_version": "1.5.0",
      "model_name": "DescriptionStyleModel",
      "state": {
       "_model_module": "@jupyter-widgets/controls",
       "_model_module_version": "1.5.0",
       "_model_name": "DescriptionStyleModel",
       "_view_count": null,
       "_view_module": "@jupyter-widgets/base",
       "_view_module_version": "1.2.0",
       "_view_name": "StyleView",
       "description_width": ""
      }
     },
     "42a23924517741d495b2e727c51b1875": {
      "model_module": "@jupyter-widgets/base",
      "model_module_version": "1.2.0",
      "model_name": "LayoutModel",
      "state": {
       "_model_module": "@jupyter-widgets/base",
       "_model_module_version": "1.2.0",
       "_model_name": "LayoutModel",
       "_view_count": null,
       "_view_module": "@jupyter-widgets/base",
       "_view_module_version": "1.2.0",
       "_view_name": "LayoutView",
       "align_content": null,
       "align_items": null,
       "align_self": null,
       "border": null,
       "bottom": null,
       "display": null,
       "flex": null,
       "flex_flow": null,
       "grid_area": null,
       "grid_auto_columns": null,
       "grid_auto_flow": null,
       "grid_auto_rows": null,
       "grid_column": null,
       "grid_gap": null,
       "grid_row": null,
       "grid_template_areas": null,
       "grid_template_columns": null,
       "grid_template_rows": null,
       "height": null,
       "justify_content": null,
       "justify_items": null,
       "left": null,
       "margin": null,
       "max_height": null,
       "max_width": null,
       "min_height": null,
       "min_width": null,
       "object_fit": null,
       "object_position": null,
       "order": null,
       "overflow": null,
       "overflow_x": null,
       "overflow_y": null,
       "padding": null,
       "right": null,
       "top": null,
       "visibility": null,
       "width": null
      }
     },
     "4b3f37b7aacb4fdbab8b968b5f8ce0a4": {
      "model_module": "@jupyter-widgets/controls",
      "model_module_version": "1.5.0",
      "model_name": "DescriptionStyleModel",
      "state": {
       "_model_module": "@jupyter-widgets/controls",
       "_model_module_version": "1.5.0",
       "_model_name": "DescriptionStyleModel",
       "_view_count": null,
       "_view_module": "@jupyter-widgets/base",
       "_view_module_version": "1.2.0",
       "_view_name": "StyleView",
       "description_width": ""
      }
     },
     "7d461d8a2cbc4726b20a4ac297d0f244": {
      "model_module": "@jupyter-widgets/base",
      "model_module_version": "1.2.0",
      "model_name": "LayoutModel",
      "state": {
       "_model_module": "@jupyter-widgets/base",
       "_model_module_version": "1.2.0",
       "_model_name": "LayoutModel",
       "_view_count": null,
       "_view_module": "@jupyter-widgets/base",
       "_view_module_version": "1.2.0",
       "_view_name": "LayoutView",
       "align_content": null,
       "align_items": null,
       "align_self": null,
       "border": null,
       "bottom": null,
       "display": null,
       "flex": null,
       "flex_flow": null,
       "grid_area": null,
       "grid_auto_columns": null,
       "grid_auto_flow": null,
       "grid_auto_rows": null,
       "grid_column": null,
       "grid_gap": null,
       "grid_row": null,
       "grid_template_areas": null,
       "grid_template_columns": null,
       "grid_template_rows": null,
       "height": null,
       "justify_content": null,
       "justify_items": null,
       "left": null,
       "margin": null,
       "max_height": null,
       "max_width": null,
       "min_height": null,
       "min_width": null,
       "object_fit": null,
       "object_position": null,
       "order": null,
       "overflow": null,
       "overflow_x": null,
       "overflow_y": null,
       "padding": null,
       "right": null,
       "top": null,
       "visibility": null,
       "width": null
      }
     },
     "b3c3062d132543ee801d61ace1091ee5": {
      "model_module": "@jupyter-widgets/controls",
      "model_module_version": "1.5.0",
      "model_name": "HBoxModel",
      "state": {
       "_dom_classes": [],
       "_model_module": "@jupyter-widgets/controls",
       "_model_module_version": "1.5.0",
       "_model_name": "HBoxModel",
       "_view_count": null,
       "_view_module": "@jupyter-widgets/controls",
       "_view_module_version": "1.5.0",
       "_view_name": "HBoxView",
       "box_style": "",
       "children": [
        "IPY_MODEL_2f2b96abc6af49a7a522124d9b495525",
        "IPY_MODEL_b93874a6e0f34478b1ec258701a594ba",
        "IPY_MODEL_358cb04e04b84201bec487151fca7ea2"
       ],
       "layout": "IPY_MODEL_e3e56d09fdfb408ca15b3ac6aa204e25"
      }
     },
     "b93874a6e0f34478b1ec258701a594ba": {
      "model_module": "@jupyter-widgets/controls",
      "model_module_version": "1.5.0",
      "model_name": "FloatProgressModel",
      "state": {
       "_dom_classes": [],
       "_model_module": "@jupyter-widgets/controls",
       "_model_module_version": "1.5.0",
       "_model_name": "FloatProgressModel",
       "_view_count": null,
       "_view_module": "@jupyter-widgets/controls",
       "_view_module_version": "1.5.0",
       "_view_name": "ProgressView",
       "bar_style": "success",
       "description": "",
       "description_tooltip": null,
       "layout": "IPY_MODEL_7d461d8a2cbc4726b20a4ac297d0f244",
       "max": 46830571.0,
       "min": 0.0,
       "orientation": "horizontal",
       "style": "IPY_MODEL_d01e82e2000d47f98ad0ad0eeacaf33e",
       "value": 46830571.0
      }
     },
     "d014a6ceae7d480385c4d3776536966e": {
      "model_module": "@jupyter-widgets/base",
      "model_module_version": "1.2.0",
      "model_name": "LayoutModel",
      "state": {
       "_model_module": "@jupyter-widgets/base",
       "_model_module_version": "1.2.0",
       "_model_name": "LayoutModel",
       "_view_count": null,
       "_view_module": "@jupyter-widgets/base",
       "_view_module_version": "1.2.0",
       "_view_name": "LayoutView",
       "align_content": null,
       "align_items": null,
       "align_self": null,
       "border": null,
       "bottom": null,
       "display": null,
       "flex": null,
       "flex_flow": null,
       "grid_area": null,
       "grid_auto_columns": null,
       "grid_auto_flow": null,
       "grid_auto_rows": null,
       "grid_column": null,
       "grid_gap": null,
       "grid_row": null,
       "grid_template_areas": null,
       "grid_template_columns": null,
       "grid_template_rows": null,
       "height": null,
       "justify_content": null,
       "justify_items": null,
       "left": null,
       "margin": null,
       "max_height": null,
       "max_width": null,
       "min_height": null,
       "min_width": null,
       "object_fit": null,
       "object_position": null,
       "order": null,
       "overflow": null,
       "overflow_x": null,
       "overflow_y": null,
       "padding": null,
       "right": null,
       "top": null,
       "visibility": null,
       "width": null
      }
     },
     "d01e82e2000d47f98ad0ad0eeacaf33e": {
      "model_module": "@jupyter-widgets/controls",
      "model_module_version": "1.5.0",
      "model_name": "ProgressStyleModel",
      "state": {
       "_model_module": "@jupyter-widgets/controls",
       "_model_module_version": "1.5.0",
       "_model_name": "ProgressStyleModel",
       "_view_count": null,
       "_view_module": "@jupyter-widgets/base",
       "_view_module_version": "1.2.0",
       "_view_name": "StyleView",
       "bar_color": null,
       "description_width": ""
      }
     },
     "e3e56d09fdfb408ca15b3ac6aa204e25": {
      "model_module": "@jupyter-widgets/base",
      "model_module_version": "1.2.0",
      "model_name": "LayoutModel",
      "state": {
       "_model_module": "@jupyter-widgets/base",
       "_model_module_version": "1.2.0",
       "_model_name": "LayoutModel",
       "_view_count": null,
       "_view_module": "@jupyter-widgets/base",
       "_view_module_version": "1.2.0",
       "_view_name": "LayoutView",
       "align_content": null,
       "align_items": null,
       "align_self": null,
       "border": null,
       "bottom": null,
       "display": null,
       "flex": null,
       "flex_flow": null,
       "grid_area": null,
       "grid_auto_columns": null,
       "grid_auto_flow": null,
       "grid_auto_rows": null,
       "grid_column": null,
       "grid_gap": null,
       "grid_row": null,
       "grid_template_areas": null,
       "grid_template_columns": null,
       "grid_template_rows": null,
       "height": null,
       "justify_content": null,
       "justify_items": null,
       "left": null,
       "margin": null,
       "max_height": null,
       "max_width": null,
       "min_height": null,
       "min_width": null,
       "object_fit": null,
       "object_position": null,
       "order": null,
       "overflow": null,
       "overflow_x": null,
       "overflow_y": null,
       "padding": null,
       "right": null,
       "top": null,
       "visibility": null,
       "width": null
      }
     }
    },
    "version_major": 2,
    "version_minor": 0
   }
  }
 },
 "nbformat": 4,
 "nbformat_minor": 5
}
