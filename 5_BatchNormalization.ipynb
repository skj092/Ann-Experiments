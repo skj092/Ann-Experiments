{
 "cells": [
  {
   "cell_type": "markdown",
   "id": "73e46cf8",
   "metadata": {},
   "source": [
    "# Aim : To Study The Affect Of Batch Normalization"
   ]
  },
  {
   "cell_type": "code",
   "execution_count": 1,
   "id": "858f88dc",
   "metadata": {},
   "outputs": [
    {
     "name": "stderr",
     "output_type": "stream",
     "text": [
      "c:\\users\\sonu.ramkumar.jha\\desktop\\experiments\\env\\lib\\site-packages\\numpy\\_distributor_init.py:30: UserWarning: loaded more than 1 DLL from .libs:\n",
      "c:\\users\\sonu.ramkumar.jha\\desktop\\experiments\\env\\lib\\site-packages\\numpy\\.libs\\libopenblas.GK7GX5KEQ4F6UYO3P26ULGBQYHGQO7J4.gfortran-win_amd64.dll\n",
      "c:\\users\\sonu.ramkumar.jha\\desktop\\experiments\\env\\lib\\site-packages\\numpy\\.libs\\libopenblas.WCDJNK7YVMPZQ2ME2ZZHJJRJ3JIKNDB7.gfortran-win_amd64.dll\n",
      "  warnings.warn(\"loaded more than 1 DLL from .libs:\"\n"
     ]
    },
    {
     "name": "stdout",
     "output_type": "stream",
     "text": [
      "2.5.0\n"
     ]
    },
    {
     "name": "stderr",
     "output_type": "stream",
     "text": [
      "2021/06/14 14:44:33 WARNING mlflow.utils.autologging_utils: You are using an unsupported version of tensorflow. If you encounter errors during autologging, try upgrading / downgrading tensorflow to a supported version, or try upgrading MLflow.\n"
     ]
    }
   ],
   "source": [
    "# TensorFlow and tf.keras\n",
    "import tensorflow as tf\n",
    "\n",
    "# Helper libraries\n",
    "import numpy as np\n",
    "from tensorflow.keras import initializers\n",
    "from tensorflow.python.keras import activations\n",
    "\n",
    "print(tf.__version__)\n",
    "\n",
    "# downloading fashion_mnist data\n",
    "fashion_mnist = tf.keras.datasets.fashion_mnist\n",
    "\n",
    "(train_images, train_labels), (test_images, test_labels) = fashion_mnist.load_data()\n",
    "\n",
    "class_names = ['T-shirt/top', 'Trouser', 'Pullover', 'Dress', 'Coat',\n",
    "               'Sandal', 'Shirt', 'Sneaker', 'Bag', 'Ankle boot']\n",
    "\n",
    "train_images = train_images / 255.0\n",
    "\n",
    "test_images = test_images / 255.0              \n",
    "\n",
    "\n",
    "import mlflow.tensorflow\n",
    "mlflow.tensorflow.autolog()\n",
    "\n",
    "initializer = tf.keras.initializers.glorot_normal\n",
    "activation = tf.keras.activations.tanh"
   ]
  },
  {
   "cell_type": "markdown",
   "id": "f86465e6",
   "metadata": {},
   "source": [
    "# without batchnorm"
   ]
  },
  {
   "cell_type": "code",
   "execution_count": 2,
   "id": "81fdffcd",
   "metadata": {},
   "outputs": [
    {
     "name": "stdout",
     "output_type": "stream",
     "text": [
      "Model: \"sequential\"\n",
      "_________________________________________________________________\n",
      "Layer (type)                 Output Shape              Param #   \n",
      "=================================================================\n",
      "flatten (Flatten)            (None, 784)               0         \n",
      "_________________________________________________________________\n",
      "dense (Dense)                (None, 128)               100480    \n",
      "_________________________________________________________________\n",
      "dense_1 (Dense)              (None, 10)                1290      \n",
      "=================================================================\n",
      "Total params: 101,770\n",
      "Trainable params: 101,770\n",
      "Non-trainable params: 0\n",
      "_________________________________________________________________\n",
      "Epoch 1/10\n",
      "   3/1875 [..............................] - ETA: 5:15 - loss: 2.1168 - accuracy: 0.1771WARNING:tensorflow:Callback method `on_train_batch_end` is slow compared to the batch time (batch time: 0.0030s vs `on_train_batch_end` time: 0.0559s). Check your callbacks.\n",
      "1875/1875 [==============================] - 5s 2ms/step - loss: 0.4730 - accuracy: 0.8309\n",
      "Epoch 2/10\n",
      "1875/1875 [==============================] - 3s 2ms/step - loss: 0.3687 - accuracy: 0.8667: 0s - loss: 0.3696 - accura\n",
      "Epoch 3/10\n",
      "1875/1875 [==============================] - 4s 2ms/step - loss: 0.3331 - accuracy: 0.8773\n",
      "Epoch 4/10\n",
      "1875/1875 [==============================] - 3s 2ms/step - loss: 0.3115 - accuracy: 0.8848\n",
      "Epoch 5/10\n",
      "1875/1875 [==============================] - 3s 2ms/step - loss: 0.2957 - accuracy: 0.8906\n",
      "Epoch 6/10\n",
      "1875/1875 [==============================] - 4s 2ms/step - loss: 0.2813 - accuracy: 0.8953\n",
      "Epoch 7/10\n",
      "1875/1875 [==============================] - 3s 2ms/step - loss: 0.2697 - accuracy: 0.8999\n",
      "Epoch 8/10\n",
      "1875/1875 [==============================] - 3s 1ms/step - loss: 0.2574 - accuracy: 0.9036\n",
      "Epoch 9/10\n",
      "1875/1875 [==============================] - 2s 1ms/step - loss: 0.2494 - accuracy: 0.9065\n",
      "Epoch 10/10\n",
      "1875/1875 [==============================] - 3s 2ms/step - loss: 0.2408 - accuracy: 0.9092\n",
      "INFO:tensorflow:Assets written to: C:\\Users\\SONURA~1.JHA\\AppData\\Local\\Temp\\tmpd1ofocux\\model\\data\\model\\assets\n",
      "313/313 - 0s - loss: 0.3296 - accuracy: 0.8804\n",
      "test_loss 0.3296279013156891\n",
      "test_accuracy 0.8804000020027161\n"
     ]
    }
   ],
   "source": [
    "model = tf.keras.Sequential([\n",
    "tf.keras.layers.Flatten(input_shape=(28, 28)),\n",
    "tf.keras.layers.Dense(128, activation=activation, kernel_initializer=initializer),\n",
    "tf.keras.layers.Dense(10, kernel_initializer=initializer)\n",
    "])\n",
    "\n",
    "model.compile(optimizer='adam',loss=tf.keras.losses.SparseCategoricalCrossentropy(from_logits=True),metrics=['accuracy'])\n",
    "\n",
    "# model summary\n",
    "model.summary()\n",
    "\n",
    "with mlflow.start_run():\n",
    "\n",
    "    model.fit(train_images, train_labels, epochs=10)\n",
    "\n",
    "    test_loss, test_acc = model.evaluate(test_images,  test_labels, verbose=2)\n",
    "\n",
    "    print('test_loss', test_loss)\n",
    "    print('test_accuracy', test_acc)\n",
    "\n",
    "    mlflow.tensorflow.mlflow.log_metric('test_loss', test_loss)\n",
    "    mlflow.tensorflow.mlflow.log_metric('test_acc', test_acc)  \n",
    "    mlflow.tensorflow.mlflow.log_param('initializer', initializer)\n",
    "    mlflow.tensorflow.mlflow.log_param('activation', activation)"
   ]
  },
  {
   "cell_type": "markdown",
   "id": "910d7d50",
   "metadata": {},
   "source": [
    "# With BatchNormalization"
   ]
  },
  {
   "cell_type": "code",
   "execution_count": 3,
   "id": "d3a6a7cf",
   "metadata": {},
   "outputs": [
    {
     "name": "stdout",
     "output_type": "stream",
     "text": [
      "Model: \"sequential_1\"\n",
      "_________________________________________________________________\n",
      "Layer (type)                 Output Shape              Param #   \n",
      "=================================================================\n",
      "flatten_1 (Flatten)          (None, 784)               0         \n",
      "_________________________________________________________________\n",
      "batch_normalization (BatchNo (None, 784)               3136      \n",
      "_________________________________________________________________\n",
      "dense_2 (Dense)              (None, 128)               100480    \n",
      "_________________________________________________________________\n",
      "batch_normalization_1 (Batch (None, 128)               512       \n",
      "_________________________________________________________________\n",
      "dense_3 (Dense)              (None, 10)                1290      \n",
      "=================================================================\n",
      "Total params: 105,418\n",
      "Trainable params: 103,594\n",
      "Non-trainable params: 1,824\n",
      "_________________________________________________________________\n",
      "Epoch 1/10\n",
      "   3/1875 [..............................] - ETA: 12:18 - loss: 2.2163 - accuracy: 0.2500WARNING:tensorflow:Callback method `on_train_batch_end` is slow compared to the batch time (batch time: 0.0022s vs `on_train_batch_end` time: 0.1302s). Check your callbacks.\n",
      "1875/1875 [==============================] - 6s 3ms/step - loss: 0.4789 - accuracy: 0.8298\n",
      "Epoch 2/10\n",
      "1875/1875 [==============================] - 5s 3ms/step - loss: 0.3837 - accuracy: 0.8601\n",
      "Epoch 3/10\n",
      "1875/1875 [==============================] - 4s 2ms/step - loss: 0.3556 - accuracy: 0.8698\n",
      "Epoch 4/10\n",
      "1875/1875 [==============================] - 4s 2ms/step - loss: 0.3372 - accuracy: 0.8773\n",
      "Epoch 5/10\n",
      "1875/1875 [==============================] - 5s 2ms/step - loss: 0.3288 - accuracy: 0.8788\n",
      "Epoch 6/10\n",
      "1875/1875 [==============================] - 4s 2ms/step - loss: 0.3133 - accuracy: 0.8847\n",
      "Epoch 7/10\n",
      "1875/1875 [==============================] - 4s 2ms/step - loss: 0.3069 - accuracy: 0.8863\n",
      "Epoch 8/10\n",
      "1875/1875 [==============================] - 4s 2ms/step - loss: 0.3015 - accuracy: 0.8885\n",
      "Epoch 9/10\n",
      "1875/1875 [==============================] - 5s 3ms/step - loss: 0.2956 - accuracy: 0.8895\n",
      "Epoch 10/10\n",
      "1875/1875 [==============================] - 5s 3ms/step - loss: 0.2876 - accuracy: 0.8938\n",
      "INFO:tensorflow:Assets written to: C:\\Users\\SONURA~1.JHA\\AppData\\Local\\Temp\\tmp7_obv_j4\\model\\data\\model\\assets\n",
      "313/313 - 1s - loss: 0.3513 - accuracy: 0.8753\n",
      "test_loss 0.35125240683555603\n",
      "test_accuracy 0.8752999901771545\n"
     ]
    }
   ],
   "source": [
    "del model\n",
    "model = tf.keras.Sequential([\n",
    "    tf.keras.layers.Flatten(input_shape=(28, 28)),\n",
    "    tf.keras.layers.BatchNormalization(),\n",
    "    tf.keras.layers.Dense(128, activation=activation, kernel_initializer=initializer),\n",
    "    tf.keras.layers.BatchNormalization(),\n",
    "    tf.keras.layers.Dense(10, kernel_initializer=initializer)\n",
    "])\n",
    "\n",
    "model.compile(optimizer='adam',loss=tf.keras.losses.SparseCategoricalCrossentropy(from_logits=True),metrics=['accuracy'])\n",
    "\n",
    "# model summary\n",
    "model.summary()\n",
    "\n",
    "with mlflow.start_run():\n",
    "\n",
    "    model.fit(train_images, train_labels, epochs=10)\n",
    "\n",
    "    test_loss, test_acc = model.evaluate(test_images,  test_labels, verbose=2)\n",
    "\n",
    "    print('test_loss', test_loss)\n",
    "    print('test_accuracy', test_acc)\n",
    "\n",
    "    mlflow.tensorflow.mlflow.log_metric('test_loss', test_loss)\n",
    "    mlflow.tensorflow.mlflow.log_metric('test_acc', test_acc)  \n",
    "    mlflow.tensorflow.mlflow.log_param('initializer', initializer)\n",
    "    mlflow.tensorflow.mlflow.log_param('activation', activation)"
   ]
  },
  {
   "cell_type": "markdown",
   "id": "3fa9a47b",
   "metadata": {},
   "source": [
    "# Withoud BatchNormalization"
   ]
  },
  {
   "cell_type": "code",
   "execution_count": 4,
   "id": "d1137c1e",
   "metadata": {},
   "outputs": [
    {
     "name": "stdout",
     "output_type": "stream",
     "text": [
      "Model: \"sequential_2\"\n",
      "_________________________________________________________________\n",
      "Layer (type)                 Output Shape              Param #   \n",
      "=================================================================\n",
      "flatten_2 (Flatten)          (None, 784)               0         \n",
      "_________________________________________________________________\n",
      "dense_4 (Dense)              (None, 128)               100480    \n",
      "_________________________________________________________________\n",
      "dense_5 (Dense)              (None, 10)                1290      \n",
      "=================================================================\n",
      "Total params: 101,770\n",
      "Trainable params: 101,770\n",
      "Non-trainable params: 0\n",
      "_________________________________________________________________\n",
      "Epoch 1/20\n",
      "   3/1875 [..............................] - ETA: 10:56 - loss: 2.1715 - accuracy: 0.1771WARNING:tensorflow:Callback method `on_train_batch_end` is slow compared to the batch time (batch time: 0.0020s vs `on_train_batch_end` time: 0.1165s). Check your callbacks.\n",
      "1875/1875 [==============================] - 4s 2ms/step - loss: 0.4766 - accuracy: 0.8300\n",
      "Epoch 2/20\n",
      "1875/1875 [==============================] - 3s 2ms/step - loss: 0.3692 - accuracy: 0.8655\n",
      "Epoch 3/20\n",
      "1875/1875 [==============================] - 3s 2ms/step - loss: 0.3360 - accuracy: 0.8776\n",
      "Epoch 4/20\n",
      "1875/1875 [==============================] - 3s 2ms/step - loss: 0.3127 - accuracy: 0.8844\n",
      "Epoch 5/20\n",
      "1875/1875 [==============================] - 2s 1ms/step - loss: 0.2965 - accuracy: 0.8903: 0s - loss:\n",
      "Epoch 6/20\n",
      "1875/1875 [==============================] - 3s 1ms/step - loss: 0.2821 - accuracy: 0.8947\n",
      "Epoch 7/20\n",
      "1875/1875 [==============================] - 3s 2ms/step - loss: 0.2710 - accuracy: 0.8996\n",
      "Epoch 8/20\n",
      "1875/1875 [==============================] - 3s 2ms/step - loss: 0.2605 - accuracy: 0.9022\n",
      "Epoch 9/20\n",
      "1875/1875 [==============================] - 2s 1ms/step - loss: 0.2529 - accuracy: 0.9059\n",
      "Epoch 10/20\n",
      "1875/1875 [==============================] - 2s 1ms/step - loss: 0.2435 - accuracy: 0.9091\n",
      "Epoch 11/20\n",
      "1875/1875 [==============================] - 3s 2ms/step - loss: 0.2371 - accuracy: 0.9112\n",
      "Epoch 12/20\n",
      "1875/1875 [==============================] - 4s 2ms/step - loss: 0.2299 - accuracy: 0.9141\n",
      "Epoch 13/20\n",
      "1875/1875 [==============================] - 3s 1ms/step - loss: 0.2235 - accuracy: 0.9176\n",
      "Epoch 14/20\n",
      "1875/1875 [==============================] - 2s 1ms/step - loss: 0.2147 - accuracy: 0.9199\n",
      "Epoch 15/20\n",
      "1875/1875 [==============================] - 3s 2ms/step - loss: 0.2077 - accuracy: 0.9223\n",
      "Epoch 16/20\n",
      "1875/1875 [==============================] - 3s 2ms/step - loss: 0.2029 - accuracy: 0.9247\n",
      "Epoch 17/20\n",
      "1875/1875 [==============================] - 3s 2ms/step - loss: 0.1971 - accuracy: 0.9268\n",
      "Epoch 18/20\n",
      "1875/1875 [==============================] - 3s 2ms/step - loss: 0.1939 - accuracy: 0.9291\n",
      "Epoch 19/20\n",
      "1875/1875 [==============================] - 3s 2ms/step - loss: 0.1890 - accuracy: 0.9306\n",
      "Epoch 20/20\n",
      "1875/1875 [==============================] - 3s 2ms/step - loss: 0.1854 - accuracy: 0.9310\n",
      "INFO:tensorflow:Assets written to: C:\\Users\\SONURA~1.JHA\\AppData\\Local\\Temp\\tmpghwr50vo\\model\\data\\model\\assets\n",
      "313/313 - 0s - loss: 0.3311 - accuracy: 0.8857\n",
      "test_loss 0.33106836676597595\n",
      "test_accuracy 0.885699987411499\n"
     ]
    }
   ],
   "source": [
    "# deleting previous model\n",
    "del model\n",
    "\n",
    "model = tf.keras.Sequential([\n",
    "tf.keras.layers.Flatten(input_shape=(28, 28)),\n",
    "tf.keras.layers.Dense(128, activation=activation, kernel_initializer=initializer),\n",
    "tf.keras.layers.Dense(10, kernel_initializer=initializer)\n",
    "])\n",
    "\n",
    "model.compile(optimizer='adam',loss=tf.keras.losses.SparseCategoricalCrossentropy(from_logits=True),metrics=['accuracy'])\n",
    "\n",
    "# model summary\n",
    "model.summary()\n",
    "\n",
    "with mlflow.start_run():\n",
    "\n",
    "    model.fit(train_images, train_labels, epochs=20)\n",
    "\n",
    "    test_loss, test_acc = model.evaluate(test_images,  test_labels, verbose=2)\n",
    "\n",
    "    print('test_loss', test_loss)\n",
    "    print('test_accuracy', test_acc)\n",
    "\n",
    "    mlflow.tensorflow.mlflow.log_metric('test_loss', test_loss)\n",
    "    mlflow.tensorflow.mlflow.log_metric('test_acc', test_acc)  \n",
    "    mlflow.tensorflow.mlflow.log_param('initializer', initializer)\n",
    "    mlflow.tensorflow.mlflow.log_param('activation', activation)"
   ]
  },
  {
   "cell_type": "markdown",
   "id": "c3894b4f",
   "metadata": {},
   "source": [
    "# With BatchNormalization"
   ]
  },
  {
   "cell_type": "code",
   "execution_count": null,
   "id": "eacd641c",
   "metadata": {},
   "outputs": [
    {
     "name": "stdout",
     "output_type": "stream",
     "text": [
      "Model: \"sequential_3\"\n",
      "_________________________________________________________________\n",
      "Layer (type)                 Output Shape              Param #   \n",
      "=================================================================\n",
      "flatten_3 (Flatten)          (None, 784)               0         \n",
      "_________________________________________________________________\n",
      "batch_normalization_2 (Batch (None, 784)               3136      \n",
      "_________________________________________________________________\n",
      "dense_6 (Dense)              (None, 128)               100480    \n",
      "_________________________________________________________________\n",
      "batch_normalization_3 (Batch (None, 128)               512       \n",
      "_________________________________________________________________\n",
      "dense_7 (Dense)              (None, 10)                1290      \n",
      "=================================================================\n",
      "Total params: 105,418\n",
      "Trainable params: 103,594\n",
      "Non-trainable params: 1,824\n",
      "_________________________________________________________________\n",
      "Epoch 1/20\n",
      "   3/1875 [..............................] - ETA: 14:52 - loss: 2.6832 - accuracy: 0.1979WARNING:tensorflow:Callback method `on_train_batch_end` is slow compared to the batch time (batch time: 0.0020s vs `on_train_batch_end` time: 0.1585s). Check your callbacks.\n",
      "1875/1875 [==============================] - 6s 3ms/step - loss: 0.4869 - accuracy: 0.8283\n",
      "Epoch 2/20\n",
      " 831/1875 [============>.................] - ETA: 2s - loss: 0.3871 - accuracy: 0.8586"
     ]
    }
   ],
   "source": [
    "del model\n",
    "model = tf.keras.Sequential([\n",
    "    tf.keras.layers.Flatten(input_shape=(28, 28)),\n",
    "    tf.keras.layers.BatchNormalization(),\n",
    "    tf.keras.layers.Dense(128, activation=activation, kernel_initializer=initializer),\n",
    "    tf.keras.layers.BatchNormalization(),\n",
    "    tf.keras.layers.Dense(10, kernel_initializer=initializer)\n",
    "])\n",
    "\n",
    "model.compile(optimizer='adam',loss=tf.keras.losses.SparseCategoricalCrossentropy(from_logits=True),metrics=['accuracy'])\n",
    "\n",
    "# model summary\n",
    "model.summary()\n",
    "\n",
    "with mlflow.start_run():\n",
    "\n",
    "    model.fit(train_images, train_labels, epochs=20)\n",
    "\n",
    "    test_loss, test_acc = model.evaluate(test_images,  test_labels, verbose=2)\n",
    "\n",
    "    print('test_loss', test_loss)\n",
    "    print('test_accuracy', test_acc)\n",
    "\n",
    "    mlflow.tensorflow.mlflow.log_metric('test_loss', test_loss)\n",
    "    mlflow.tensorflow.mlflow.log_metric('test_acc', test_acc)  \n",
    "    mlflow.tensorflow.mlflow.log_param('initializer', initializer)\n",
    "    mlflow.tensorflow.mlflow.log_param('activation', activation)"
   ]
  },
  {
   "cell_type": "markdown",
   "id": "a8c2f45e",
   "metadata": {},
   "source": [
    "# Observations : \n",
    "- Accuracy decreases with BatchNormalization may be because of the smaller network\n",
    "\n",
    "|epoch|BatchNormalization|train_loss|train_acc|test_loss|test_acc|\n",
    "|-----|------------------|-----------|---------|---------|--------|\n",
    "|10|no|0.2407 |0.9107\t|0.3508 |0.8766|\n",
    "|10|yes|0.2863 |0.8935\t|0.3526 |0.8742|\n",
    "|20|no|0.1871 |0.9292\t|0.3351 |0.8863|\n",
    "|20|yes|0.2457 |0.9078|0.3551 |0.8809|"
   ]
  },
  {
   "cell_type": "code",
   "execution_count": null,
   "id": "cba34522",
   "metadata": {},
   "outputs": [],
   "source": []
  }
 ],
 "metadata": {
  "kernelspec": {
   "display_name": "Python 3",
   "language": "python",
   "name": "python3"
  },
  "language_info": {
   "codemirror_mode": {
    "name": "ipython",
    "version": 3
   },
   "file_extension": ".py",
   "mimetype": "text/x-python",
   "name": "python",
   "nbconvert_exporter": "python",
   "pygments_lexer": "ipython3",
   "version": "3.9.5"
  }
 },
 "nbformat": 4,
 "nbformat_minor": 5
}
