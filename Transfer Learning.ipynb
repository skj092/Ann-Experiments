{
 "cells": [
  {
   "cell_type": "markdown",
   "id": "767eeac3",
   "metadata": {},
   "source": [
    "# Transfer Learning"
   ]
  },
  {
   "cell_type": "markdown",
   "id": "628c3f72",
   "metadata": {},
   "source": [
    "**1. What is Transfer Learning ?**\n",
    "\n",
    "*Ans :* `Is is the method of using the already trained model on the dataset similar to the trained model data.`"
   ]
  },
  {
   "cell_type": "code",
   "execution_count": 9,
   "id": "f2042b04",
   "metadata": {},
   "outputs": [
    {
     "name": "stdout",
     "output_type": "stream",
     "text": [
      "2.5.0\n"
     ]
    }
   ],
   "source": [
    "# TensorFlow and tf.keras\n",
    "import tensorflow as tf\n",
    "\n",
    "# Helper libraries\n",
    "import numpy as np\n",
    "from tensorflow.keras import initializers\n",
    "from tensorflow.python.keras import activations\n",
    "\n",
    "print(tf.__version__)\n",
    "\n",
    "# downloading fashion_mnist data\n",
    "fashion_mnist = tf.keras.datasets.fashion_mnist\n",
    "\n",
    "(train_images, train_labels), (test_images, test_labels) = fashion_mnist.load_data()\n",
    "\n",
    "class_names = ['T-shirt/top', 'Trouser', 'Pullover', 'Dress', 'Coat',\n",
    "               'Sandal', 'Shirt', 'Sneaker', 'Bag', 'Ankle boot']\n",
    "\n",
    "train_images = train_images / 255.0\n",
    "\n",
    "test_images = test_images / 255.0       \n",
    "\n",
    "activation = tf.keras.activations.tanh"
   ]
  },
  {
   "cell_type": "code",
   "execution_count": 16,
   "id": "c5a8e85c",
   "metadata": {},
   "outputs": [],
   "source": [
    "model = tf.keras.Sequential([\n",
    "tf.keras.layers.Flatten(input_shape=(28, 28)),\n",
    "tf.keras.layers.Dense(128, activation=activation),\n",
    "tf.keras.layers.Dense(10)\n",
    "])\n",
    "\n",
    "model.compile(optimizer='adam',loss=tf.keras.losses.SparseCategoricalCrossentropy(from_logits=True),metrics=['accuracy'])\n",
    "\n",
    "# model summary\n",
    "model.summary()\n",
    "\n",
    "\n",
    "\n",
    "model.fit(train_images, train_labels, epochs=10)\n",
    "\n",
    "test_loss, test_acc = model.evaluate(test_images,  test_labels, verbose=2)\n",
    "\n",
    "print('test_loss', test_loss)\n",
    "print('test_accuracy', test_acc)\n",
    "\n",
    "model.save('model.h5')"
   ]
  },
  {
   "cell_type": "markdown",
   "id": "10fc2cf9",
   "metadata": {},
   "source": [
    "## Predicting image is coat or not"
   ]
  },
  {
   "cell_type": "code",
   "execution_count": 11,
   "id": "9d4365f9",
   "metadata": {},
   "outputs": [
    {
     "data": {
      "text/plain": [
       "array([False, False, False, ..., False, False, False])"
      ]
     },
     "execution_count": 11,
     "metadata": {},
     "output_type": "execute_result"
    }
   ],
   "source": [
    "# index of 'coat' in train_labels is 4 \n",
    "\n",
    "coat_train_lbl = train_labels==4\n",
    "coat_train_lbl"
   ]
  },
  {
   "cell_type": "code",
   "execution_count": 12,
   "id": "9c3deb41",
   "metadata": {},
   "outputs": [
    {
     "data": {
      "text/plain": [
       "array([False, False, False, ..., False, False, False])"
      ]
     },
     "execution_count": 12,
     "metadata": {},
     "output_type": "execute_result"
    }
   ],
   "source": [
    "coat_test_lbl = test_labels == 4\n",
    "coat_test_lbl"
   ]
  },
  {
   "cell_type": "markdown",
   "id": "b99b9e12",
   "metadata": {},
   "source": [
    "**Without Transfer Learning**"
   ]
  },
  {
   "cell_type": "code",
   "execution_count": 14,
   "id": "83240ef9",
   "metadata": {},
   "outputs": [
    {
     "name": "stderr",
     "output_type": "stream",
     "text": [
      "2021/06/15 09:45:50 INFO mlflow.utils.autologging_utils: Created MLflow autologging run with ID 'a9f71512e0994667ab1aee7b7a27c3a6', which will track hyperparameters, performance metrics, model artifacts, and lineage information for the current tensorflow workflow\n"
     ]
    },
    {
     "name": "stdout",
     "output_type": "stream",
     "text": [
      "Model: \"sequential_3\"\n",
      "_________________________________________________________________\n",
      "Layer (type)                 Output Shape              Param #   \n",
      "=================================================================\n",
      "flatten_3 (Flatten)          (None, 784)               0         \n",
      "_________________________________________________________________\n",
      "dense_6 (Dense)              (None, 128)               100480    \n",
      "_________________________________________________________________\n",
      "dense_7 (Dense)              (None, 1)                 129       \n",
      "=================================================================\n",
      "Total params: 100,609\n",
      "Trainable params: 100,609\n",
      "Non-trainable params: 0\n",
      "_________________________________________________________________\n",
      "Epoch 1/10\n",
      "WARNING:tensorflow:Callback method `on_train_batch_end` is slow compared to the batch time (batch time: 0.0027s vs `on_train_batch_end` time: 0.1613s). Check your callbacks.\n",
      "1875/1875 - 6s - loss: 1.5428 - accuracy: 0.8999 - val_loss: 1.5428 - val_accuracy: 0.9000\n",
      "Epoch 2/10\n",
      "1875/1875 - 4s - loss: 1.5424 - accuracy: 0.9000 - val_loss: 1.5426 - val_accuracy: 0.9000\n",
      "Epoch 3/10\n",
      "1875/1875 - 4s - loss: 1.5424 - accuracy: 0.9000 - val_loss: 1.5426 - val_accuracy: 0.9000\n",
      "Epoch 4/10\n",
      "1875/1875 - 5s - loss: 1.5423 - accuracy: 0.9000 - val_loss: 1.5425 - val_accuracy: 0.9000\n",
      "Epoch 5/10\n",
      "1875/1875 - 4s - loss: 1.5423 - accuracy: 0.9000 - val_loss: 1.5425 - val_accuracy: 0.9000\n",
      "Epoch 6/10\n",
      "1875/1875 - 4s - loss: 1.5423 - accuracy: 0.9000 - val_loss: 1.5425 - val_accuracy: 0.9000\n",
      "Epoch 7/10\n",
      "1875/1875 - 4s - loss: 1.5423 - accuracy: 0.9000 - val_loss: 1.5425 - val_accuracy: 0.9000\n",
      "Epoch 8/10\n",
      "1875/1875 - 4s - loss: 1.5423 - accuracy: 0.9000 - val_loss: 1.5425 - val_accuracy: 0.9000\n",
      "Epoch 9/10\n",
      "1875/1875 - 4s - loss: 1.5423 - accuracy: 0.9000 - val_loss: 1.5425 - val_accuracy: 0.9000\n",
      "Epoch 10/10\n",
      "1875/1875 - 4s - loss: 1.5423 - accuracy: 0.9000 - val_loss: 1.5425 - val_accuracy: 0.9000\n",
      "INFO:tensorflow:Assets written to: C:\\Users\\SONURA~1.JHA\\AppData\\Local\\Temp\\tmp6gbzb_x_\\model\\data\\model\\assets\n"
     ]
    }
   ],
   "source": [
    "model1 = tf.keras.Sequential([\n",
    "tf.keras.layers.Flatten(input_shape=(28, 28)),\n",
    "tf.keras.layers.Dense(128, activation=activation),\n",
    "tf.keras.layers.Dense(1)\n",
    "])\n",
    "\n",
    "loss = tf.keras.losses.binary_crossentropy\n",
    "model1.compile(loss=loss,\n",
    "                  optimizer = tf.keras.optimizers.SGD(learning_rate=1e-3),\n",
    "                  metrics = ['accuracy'])\n",
    "\n",
    "# model summary\n",
    "model1.summary()\n",
    "\n",
    "history = model1.fit(train_images, coat_train_lbl, epochs=10,\n",
    "                    validation_data=(test_images, coat_test_lbl), verbose=2)"
   ]
  },
  {
   "cell_type": "markdown",
   "id": "6a0bc01c",
   "metadata": {},
   "source": [
    "**With Transfer Learning**"
   ]
  },
  {
   "cell_type": "code",
   "execution_count": 17,
   "id": "7a957362",
   "metadata": {},
   "outputs": [
    {
     "name": "stdout",
     "output_type": "stream",
     "text": [
      "Model: \"sequential_1\"\n",
      "_________________________________________________________________\n",
      "Layer (type)                 Output Shape              Param #   \n",
      "=================================================================\n",
      "flatten_1 (Flatten)          (None, 784)               0         \n",
      "_________________________________________________________________\n",
      "dense_2 (Dense)              (None, 128)               100480    \n",
      "_________________________________________________________________\n",
      "dense_3 (Dense)              (None, 10)                1290      \n",
      "=================================================================\n",
      "Total params: 101,770\n",
      "Trainable params: 101,770\n",
      "Non-trainable params: 0\n",
      "_________________________________________________________________\n"
     ]
    }
   ],
   "source": [
    "pretrained_fmnist_model = tf.keras.models.load_model('model.h5')\n",
    "pretrained_fmnist_model.summary()"
   ]
  },
  {
   "cell_type": "code",
   "execution_count": 18,
   "id": "8b79ab99",
   "metadata": {},
   "outputs": [
    {
     "name": "stdout",
     "output_type": "stream",
     "text": [
      "flatten_1: True\n",
      "dense_2: True\n",
      "dense_3: True\n"
     ]
    }
   ],
   "source": [
    "for layer in pretrained_fmnist_model.layers:\n",
    "  print(f\"{layer.name}: {layer.trainable}\")"
   ]
  },
  {
   "cell_type": "code",
   "execution_count": 19,
   "id": "e795199c",
   "metadata": {},
   "outputs": [],
   "source": [
    "for layer in pretrained_fmnist_model.layers[:-1]:\n",
    "  layer.trainable = False"
   ]
  },
  {
   "cell_type": "code",
   "execution_count": 20,
   "id": "2f58d9dd",
   "metadata": {},
   "outputs": [
    {
     "name": "stdout",
     "output_type": "stream",
     "text": [
      "flatten_1: False\n",
      "dense_2: False\n",
      "dense_3: True\n"
     ]
    }
   ],
   "source": [
    "for layer in pretrained_fmnist_model.layers:\n",
    "  print(f\"{layer.name}: {layer.trainable}\")"
   ]
  },
  {
   "cell_type": "code",
   "execution_count": 21,
   "id": "05adbb86",
   "metadata": {},
   "outputs": [],
   "source": [
    "lower_pretrained_layers = pretrained_fmnist_model.layers[:-1]\n",
    "\n",
    "new_model = tf.keras.models.Sequential(lower_pretrained_layers)\n",
    "new_model.add(\n",
    "    tf.keras.layers.Dense(1, activation='sigmoid')\n",
    ")"
   ]
  },
  {
   "cell_type": "code",
   "execution_count": 22,
   "id": "a05fdc3c",
   "metadata": {},
   "outputs": [
    {
     "name": "stdout",
     "output_type": "stream",
     "text": [
      "Model: \"sequential_4\"\n",
      "_________________________________________________________________\n",
      "Layer (type)                 Output Shape              Param #   \n",
      "=================================================================\n",
      "flatten_1 (Flatten)          (None, 784)               0         \n",
      "_________________________________________________________________\n",
      "dense_2 (Dense)              (None, 128)               100480    \n",
      "_________________________________________________________________\n",
      "dense_8 (Dense)              (None, 1)                 129       \n",
      "=================================================================\n",
      "Total params: 100,609\n",
      "Trainable params: 129\n",
      "Non-trainable params: 100,480\n",
      "_________________________________________________________________\n"
     ]
    }
   ],
   "source": [
    "new_model.summary()"
   ]
  },
  {
   "cell_type": "code",
   "execution_count": 23,
   "id": "4deb9498",
   "metadata": {},
   "outputs": [],
   "source": [
    "loss = tf.keras.losses.binary_crossentropy\n",
    "new_model.compile(loss=loss,\n",
    "                  optimizer = tf.keras.optimizers.SGD(learning_rate=1e-3),\n",
    "                  metrics = ['accuracy'])"
   ]
  },
  {
   "cell_type": "code",
   "execution_count": 24,
   "id": "0aa4d5a9",
   "metadata": {},
   "outputs": [
    {
     "name": "stdout",
     "output_type": "stream",
     "text": [
      "Model: \"sequential_4\"\n",
      "_________________________________________________________________\n",
      "Layer (type)                 Output Shape              Param #   \n",
      "=================================================================\n",
      "flatten_1 (Flatten)          (None, 784)               0         \n",
      "_________________________________________________________________\n",
      "dense_2 (Dense)              (None, 128)               100480    \n",
      "_________________________________________________________________\n",
      "dense_8 (Dense)              (None, 1)                 129       \n",
      "=================================================================\n",
      "Total params: 100,609\n",
      "Trainable params: 129\n",
      "Non-trainable params: 100,480\n",
      "_________________________________________________________________\n"
     ]
    }
   ],
   "source": [
    "new_model.summary()"
   ]
  },
  {
   "cell_type": "code",
   "execution_count": 25,
   "id": "718897cb",
   "metadata": {},
   "outputs": [
    {
     "name": "stderr",
     "output_type": "stream",
     "text": [
      "2021/06/15 09:48:41 INFO mlflow.utils.autologging_utils: Created MLflow autologging run with ID 'f8b19c4b1b524262a36d04ae8f0e09c8', which will track hyperparameters, performance metrics, model artifacts, and lineage information for the current tensorflow workflow\n"
     ]
    },
    {
     "name": "stdout",
     "output_type": "stream",
     "text": [
      "Epoch 1/10\n",
      "WARNING:tensorflow:Callback method `on_train_batch_end` is slow compared to the batch time (batch time: 0.0022s vs `on_train_batch_end` time: 0.1674s). Check your callbacks.\n",
      "1875/1875 - 5s - loss: 0.2786 - accuracy: 0.9071 - val_loss: 0.2083 - val_accuracy: 0.9210\n",
      "Epoch 2/10\n",
      "1875/1875 - 3s - loss: 0.1857 - accuracy: 0.9312 - val_loss: 0.1742 - val_accuracy: 0.9321\n",
      "Epoch 3/10\n",
      "1875/1875 - 3s - loss: 0.1605 - accuracy: 0.9377 - val_loss: 0.1588 - val_accuracy: 0.9348\n",
      "Epoch 4/10\n",
      "1875/1875 - 3s - loss: 0.1469 - accuracy: 0.9424 - val_loss: 0.1495 - val_accuracy: 0.9395\n",
      "Epoch 5/10\n",
      "1875/1875 - 3s - loss: 0.1381 - accuracy: 0.9461 - val_loss: 0.1432 - val_accuracy: 0.9429\n",
      "Epoch 6/10\n",
      "1875/1875 - 3s - loss: 0.1317 - accuracy: 0.9488 - val_loss: 0.1386 - val_accuracy: 0.9437\n",
      "Epoch 7/10\n",
      "1875/1875 - 3s - loss: 0.1269 - accuracy: 0.9505 - val_loss: 0.1350 - val_accuracy: 0.9456\n",
      "Epoch 8/10\n",
      "1875/1875 - 3s - loss: 0.1231 - accuracy: 0.9521 - val_loss: 0.1323 - val_accuracy: 0.9464\n",
      "Epoch 9/10\n",
      "1875/1875 - 3s - loss: 0.1201 - accuracy: 0.9531 - val_loss: 0.1299 - val_accuracy: 0.9466\n",
      "Epoch 10/10\n",
      "1875/1875 - 3s - loss: 0.1175 - accuracy: 0.9541 - val_loss: 0.1280 - val_accuracy: 0.9473\n",
      "INFO:tensorflow:Assets written to: C:\\Users\\SONURA~1.JHA\\AppData\\Local\\Temp\\tmp7otdp3li\\model\\data\\model\\assets\n"
     ]
    }
   ],
   "source": [
    "history = new_model.fit(train_images, coat_train_lbl, epochs=10,\n",
    "                    validation_data=(test_images, coat_test_lbl), verbose=2)"
   ]
  },
  {
   "cell_type": "markdown",
   "id": "87aeea7f",
   "metadata": {},
   "source": [
    "## Observations : \n",
    "- "
   ]
  },
  {
   "cell_type": "code",
   "execution_count": null,
   "id": "6a5ee661",
   "metadata": {},
   "outputs": [],
   "source": []
  }
 ],
 "metadata": {
  "kernelspec": {
   "display_name": "Python 3",
   "language": "python",
   "name": "python3"
  },
  "language_info": {
   "codemirror_mode": {
    "name": "ipython",
    "version": 3
   },
   "file_extension": ".py",
   "mimetype": "text/x-python",
   "name": "python",
   "nbconvert_exporter": "python",
   "pygments_lexer": "ipython3",
   "version": "3.9.5"
  }
 },
 "nbformat": 4,
 "nbformat_minor": 5
}
