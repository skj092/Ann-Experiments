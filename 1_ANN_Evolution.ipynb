{
 "cells": [
  {
   "cell_type": "markdown",
   "id": "b8454cfc",
   "metadata": {},
   "source": [
    "# Aim : To Study the Evolution of Artificial Neural Network(ANN) "
   ]
  },
  {
   "cell_type": "markdown",
   "id": "52503faf",
   "metadata": {},
   "source": [
    "**Questions:**\n",
    "<ol>\n",
    "    <li>What is Neural Network</li>\n",
    "    <li>Wheat is Perceptron.</li>\n",
    "    <li>Multi Layer Perceptron(MLP)</li>\n",
    "</ol>"
   ]
  },
  {
   "cell_type": "code",
   "execution_count": null,
   "id": "d0a12a30",
   "metadata": {},
   "outputs": [],
   "source": []
  }
 ],
 "metadata": {
  "kernelspec": {
   "display_name": "Python 3",
   "language": "python",
   "name": "python3"
  },
  "language_info": {
   "codemirror_mode": {
    "name": "ipython",
    "version": 3
   },
   "file_extension": ".py",
   "mimetype": "text/x-python",
   "name": "python",
   "nbconvert_exporter": "python",
   "pygments_lexer": "ipython3",
   "version": "3.9.5"
  }
 },
 "nbformat": 4,
 "nbformat_minor": 5
}
