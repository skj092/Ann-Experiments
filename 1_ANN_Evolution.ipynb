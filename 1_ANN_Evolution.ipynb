{
 "cells": [
  {
   "cell_type": "markdown",
   "id": "b8454cfc",
   "metadata": {},
   "source": [
    "# Aim : To Study the Evolution of Artificial Neural Network(ANN) "
   ]
  },
  {
   "cell_type": "markdown",
   "id": "2e621bca",
   "metadata": {},
   "source": [
    "## Artificial Intelligence\n",
    "\n",
    "> Artificial intelligence (AI) is a  branch of computer science capable of performing tasks that typically require human intelligence."
   ]
  },
  {
   "cell_type": "markdown",
   "id": "a079d356",
   "metadata": {},
   "source": [
    "<img src=\"https://www.safaribooksonline.com/library/view/deep-learning/9781491924570/assets/dpln_0101.png\" width=50%>"
   ]
  },
  {
   "cell_type": "markdown",
   "id": "0e31a083",
   "metadata": {},
   "source": [
    "## What is Deep Learning?"
   ]
  },
  {
   "cell_type": "markdown",
   "id": "e9adecab",
   "metadata": {},
   "source": [
    "> deep learning is a more approachable name for an artificial neural network. The “deep” in deep learning refers to the depth of the network. An artificial neural network can be very shallow.\n",
    "\n",
    "* Machine learning is the science of getting computers to act without being explicitly programmed."
   ]
  },
  {
   "cell_type": "markdown",
   "id": "64ef36e7",
   "metadata": {},
   "source": [
    "## ANN: Artificial Neural Networks"
   ]
  },
  {
   "cell_type": "markdown",
   "id": "8a0b73c4",
   "metadata": {},
   "source": [
    "* ANNs are inspired by biological neurons found in cerebral cortex of our brain.\n",
    "\n",
    "<img src=\"https://upload.wikimedia.org/wikipedia/commons/thumb/1/10/Blausen_0657_MultipolarNeuron.png/1200px-Blausen_0657_MultipolarNeuron.png\" width=50%>\n",
    "\n",
    "\n",
    "* A neuron or nerve cell is an electrically excitable cell that communicates with other cells via specialized connections called synapses.\n",
    "* ANNs are **core of deep learning**. Hence one of the most important topic to understand."
   ]
  },
  {
   "cell_type": "markdown",
   "id": "817a0ddb",
   "metadata": {},
   "source": [
    "## Perceptron"
   ]
  },
  {
   "cell_type": "markdown",
   "id": "ec018364",
   "metadata": {},
   "source": [
    "**A Perceptron is one of the simplese ANN architectures, invented in 1957 by Frank Rosenblatt.**\n",
    "> A perceptron works similar to a biological neuron. A biological neuron receives electrical signals from its *dendriles*, modulates the electrical signals in various amounts, and then fires an output signal through its *synapses* only when the total strength of the input signals exceeds a certain threshold. The output is then fed to another neuron, and so forth."
   ]
  },
  {
   "cell_type": "markdown",
   "id": "5ef61366",
   "metadata": {},
   "source": [
    "> To model the biological phenomenon, the artificial neuron performs two consecutive functions: it calculates the *weighted sum* of the inputs to represent the totgal strength of the input signals, and it applies a *step function* to the result to determine whether to fire the ourput 1 if the signal exceeds a certain threshold of 0 if the signal doesn't exceed the threshold."
   ]
  },
  {
   "cell_type": "markdown",
   "id": "4b6e0f7d",
   "metadata": {},
   "source": [
    "<img src=\"https://upload.wikimedia.org/wikipedia/commons/thumb/6/60/ArtificialNeuronModel_english.png/1200px-ArtificialNeuronModel_english.png\" width=50%>"
   ]
  },
  {
   "cell_type": "markdown",
   "id": "eca4dd03",
   "metadata": {},
   "source": [
    "**How Peceptron Works?**"
   ]
  },
  {
   "cell_type": "markdown",
   "id": "fd7b0791",
   "metadata": {},
   "source": [
    "The perceptron's learning logic goes like this:\n",
    "\n",
    "1. The neuron calculate the weighted sum and applies the activation function to make a prediction y<sup>^</sup>. This is called the feedforward process:\n",
    "\n",
    "$$y\\hat{} =  activation\\left(\\sum\\nolimits x_i \\cdot w_i + b\\right)$$\n",
    "\n",
    "\n",
    "2. It compares the output prediction with the correct label to calculate the error:\n",
    "\n",
    "$$error = y-y\\hat{}$$\n",
    "\n",
    "3. It then update the weight. If the prediction is too high, it adjust the weight to make a lower prediction the next time, and vice versa.\n",
    "\n",
    "4. Repeat!"
   ]
  },
  {
   "cell_type": "markdown",
   "id": "91235a17",
   "metadata": {},
   "source": [
    "**Implementation of perceptron.**"
   ]
  },
  {
   "cell_type": "code",
   "execution_count": null,
   "id": "85f6ce41",
   "metadata": {},
   "outputs": [],
   "source": [
    "weight = [50, 55, 63, 24, 63]\n",
    "height = [163, 123, 123, 163, 163]"
   ]
  },
  {
   "cell_type": "markdown",
   "id": "1e30bbb2",
   "metadata": {},
   "source": [
    "**Drawback of perceptron.**"
   ]
  },
  {
   "cell_type": "markdown",
   "id": "d229cc73",
   "metadata": {},
   "source": [
    "**Indroduction of ANN**"
   ]
  },
  {
   "cell_type": "code",
   "execution_count": null,
   "id": "ea910171",
   "metadata": {},
   "outputs": [],
   "source": []
  }
 ],
 "metadata": {
  "kernelspec": {
   "display_name": "Python 3",
   "language": "python",
   "name": "python3"
  },
  "language_info": {
   "codemirror_mode": {
    "name": "ipython",
    "version": 3
   },
   "file_extension": ".py",
   "mimetype": "text/x-python",
   "name": "python",
   "nbconvert_exporter": "python",
   "pygments_lexer": "ipython3",
   "version": "3.9.5"
  }
 },
 "nbformat": 4,
 "nbformat_minor": 5
}
