{
 "cells": [
  {
   "cell_type": "markdown",
   "id": "27251e20",
   "metadata": {},
   "source": [
    "# Aim : Do Study the problems generally faced in training an ANN"
   ]
  },
  {
   "cell_type": "code",
   "execution_count": null,
   "id": "9be91e5e",
   "metadata": {},
   "outputs": [],
   "source": []
  }
 ],
 "metadata": {
  "kernelspec": {
   "display_name": "Python 3",
   "language": "python",
   "name": "python3"
  },
  "language_info": {
   "codemirror_mode": {
    "name": "ipython",
    "version": 3
   },
   "file_extension": ".py",
   "mimetype": "text/x-python",
   "name": "python",
   "nbconvert_exporter": "python",
   "pygments_lexer": "ipython3",
   "version": "3.9.5"
  }
 },
 "nbformat": 4,
 "nbformat_minor": 5
}
