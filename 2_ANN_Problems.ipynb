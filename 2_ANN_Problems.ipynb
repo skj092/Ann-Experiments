{
 "cells": [
  {
   "cell_type": "markdown",
   "id": "27251e20",
   "metadata": {},
   "source": [
    "# Aim : Do Study the problems generally faced in training an ANN"
   ]
  },
  {
   "cell_type": "markdown",
   "id": "deb7030b",
   "metadata": {},
   "source": [
    "1. Vanishing and Exploading Gradient\n",
    "- Gradient becomes very small\n",
    "- Gradient becomes very high\n",
    "- Results in Unstable gradients implies never reach good solutions"
   ]
  },
  {
   "cell_type": "markdown",
   "id": "79560ec3",
   "metadata": {},
   "source": [
    "2. Requires Lots of Data\n",
    "- Transfer Learning and Data Augmentation"
   ]
  },
  {
   "cell_type": "markdown",
   "id": "ecbb7fe6",
   "metadata": {},
   "source": [
    "3. Slow training when network is learge\n",
    "- Better Optimizer and better Activation Functions"
   ]
  },
  {
   "cell_type": "markdown",
   "id": "a9247744",
   "metadata": {},
   "source": [
    "4. Risk of overfitting\n",
    "* Cause: Millions of parameters (trainabile weights), Not Enough Data, Noicy Data (unwanted data)\n",
    "* Solution: Regularizations, Dropout"
   ]
  },
  {
   "cell_type": "code",
   "execution_count": null,
   "id": "deb41f28",
   "metadata": {},
   "outputs": [],
   "source": []
  }
 ],
 "metadata": {
  "kernelspec": {
   "display_name": "Python 3",
   "language": "python",
   "name": "python3"
  },
  "language_info": {
   "codemirror_mode": {
    "name": "ipython",
    "version": 3
   },
   "file_extension": ".py",
   "mimetype": "text/x-python",
   "name": "python",
   "nbconvert_exporter": "python",
   "pygments_lexer": "ipython3",
   "version": "3.9.5"
  }
 },
 "nbformat": 4,
 "nbformat_minor": 5
}
