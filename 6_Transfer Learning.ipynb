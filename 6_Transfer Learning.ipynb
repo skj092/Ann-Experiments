{
 "cells": [
  {
   "cell_type": "markdown",
   "id": "767eeac3",
   "metadata": {},
   "source": [
    "# Transfer Learning"
   ]
  },
  {
   "cell_type": "markdown",
   "id": "628c3f72",
   "metadata": {},
   "source": [
    "**1. What is Transfer Learning ?**\n",
    "\n",
    "*Ans :* `Is is the method of using the already trained model on the dataset similar to the trained model data.`"
   ]
  },
  {
   "cell_type": "code",
   "execution_count": 9,
   "id": "f2042b04",
   "metadata": {},
   "outputs": [
    {
     "name": "stdout",
     "output_type": "stream",
     "text": [
      "2.5.0\n"
     ]
    }
   ],
   "source": [
    "# TensorFlow and tf.keras\n",
    "import tensorflow as tf\n",
    "\n",
    "# Helper libraries\n",
    "import numpy as np\n",
    "from tensorflow.keras import initializers\n",
    "from tensorflow.python.keras import activations\n",
    "\n",
    "print(tf.__version__)\n",
    "\n",
    "# downloading fashion_mnist data\n",
    "fashion_mnist = tf.keras.datasets.fashion_mnist\n",
    "\n",
    "(train_images, train_labels), (test_images, test_labels) = fashion_mnist.load_data()\n",
    "\n",
    "class_names = ['T-shirt/top', 'Trouser', 'Pullover', 'Dress', 'Coat',\n",
    "               'Sandal', 'Shirt', 'Sneaker', 'Bag', 'Ankle boot']\n",
    "\n",
    "train_images = train_images / 255.0\n",
    "\n",
    "test_images = test_images / 255.0       \n",
    "\n",
    "activation = tf.keras.activations.tanh"
   ]
  },
  {
   "cell_type": "code",
   "execution_count": 16,
   "id": "c5a8e85c",
   "metadata": {},
   "outputs": [],
   "source": [
    "model = tf.keras.Sequential([\n",
    "tf.keras.layers.Flatten(input_shape=(28, 28)),\n",
    "tf.keras.layers.Dense(128, activation=activation),\n",
    "tf.keras.layers.Dense(10)\n",
    "])\n",
    "\n",
    "model.compile(optimizer='adam',loss=tf.keras.losses.SparseCategoricalCrossentropy(from_logits=True),metrics=['accuracy'])\n",
    "\n",
    "# model summary\n",
    "model.summary()\n",
    "\n",
    "\n",
    "\n",
    "model.fit(train_images, train_labels, epochs=10)\n",
    "\n",
    "test_loss, test_acc = model.evaluate(test_images,  test_labels, verbose=2)\n",
    "\n",
    "print('test_loss', test_loss)\n",
    "print('test_accuracy', test_acc)\n",
    "\n",
    "model.save('model.h5')"
   ]
  },
  {
   "cell_type": "markdown",
   "id": "10fc2cf9",
   "metadata": {},
   "source": [
    "## Predicting image is coat or not\n",
    "\n",
    "\n",
    "Since this model is already trained to classify 10 classes, therefore we don't need to train a model again from scratch \n",
    "to predict an image being `coat` or not. Insted we do some modification in the last layer of this model and used previous trained weight and bias, which is good to classify 10 classes."
   ]
  },
  {
   "cell_type": "code",
   "execution_count": 17,
   "id": "7a957362",
   "metadata": {},
   "outputs": [
    {
     "name": "stdout",
     "output_type": "stream",
     "text": [
      "Model: \"sequential_1\"\n",
      "_________________________________________________________________\n",
      "Layer (type)                 Output Shape              Param #   \n",
      "=================================================================\n",
      "flatten_1 (Flatten)          (None, 784)               0         \n",
      "_________________________________________________________________\n",
      "dense_2 (Dense)              (None, 128)               100480    \n",
      "_________________________________________________________________\n",
      "dense_3 (Dense)              (None, 10)                1290      \n",
      "=================================================================\n",
      "Total params: 101,770\n",
      "Trainable params: 101,770\n",
      "Non-trainable params: 0\n",
      "_________________________________________________________________\n"
     ]
    }
   ],
   "source": [
    "# loading trained model\n",
    "\n",
    "pretrained_fmnist_model = tf.keras.models.load_model('model.h5')\n",
    "pretrained_fmnist_model.summary()"
   ]
  },
  {
   "cell_type": "code",
   "execution_count": 18,
   "id": "8b79ab99",
   "metadata": {},
   "outputs": [
    {
     "name": "stdout",
     "output_type": "stream",
     "text": [
      "flatten_1: True\n",
      "dense_2: True\n",
      "dense_3: True\n"
     ]
    }
   ],
   "source": [
    "# checking the trainaible layers\n",
    "for layer in pretrained_fmnist_model.layers:\n",
    "  print(f\"{layer.name}: {layer.trainable}\")"
   ]
  },
  {
   "cell_type": "code",
   "execution_count": 1,
   "id": "e795199c",
   "metadata": {},
   "outputs": [
    {
     "ename": "NameError",
     "evalue": "name 'pretrained_fmnist_model' is not defined",
     "output_type": "error",
     "traceback": [
      "\u001b[1;31m---------------------------------------------------------------------------\u001b[0m",
      "\u001b[1;31mNameError\u001b[0m                                 Traceback (most recent call last)",
      "\u001b[1;32m<ipython-input-1-afdbc1c08d09>\u001b[0m in \u001b[0;36m<module>\u001b[1;34m\u001b[0m\n\u001b[0;32m      1\u001b[0m \u001b[1;31m# We don't trained the parameters before last layer\u001b[0m\u001b[1;33m\u001b[0m\u001b[1;33m\u001b[0m\u001b[1;33m\u001b[0m\u001b[0m\n\u001b[1;32m----> 2\u001b[1;33m \u001b[1;32mfor\u001b[0m \u001b[0mlayer\u001b[0m \u001b[1;32min\u001b[0m \u001b[0mpretrained_fmnist_model\u001b[0m\u001b[1;33m.\u001b[0m\u001b[0mlayers\u001b[0m\u001b[1;33m[\u001b[0m\u001b[1;33m:\u001b[0m\u001b[1;33m-\u001b[0m\u001b[1;36m1\u001b[0m\u001b[1;33m]\u001b[0m\u001b[1;33m:\u001b[0m\u001b[1;33m\u001b[0m\u001b[1;33m\u001b[0m\u001b[0m\n\u001b[0m\u001b[0;32m      3\u001b[0m   \u001b[0mlayer\u001b[0m\u001b[1;33m.\u001b[0m\u001b[0mtrainable\u001b[0m \u001b[1;33m=\u001b[0m \u001b[1;32mFalse\u001b[0m\u001b[1;33m\u001b[0m\u001b[1;33m\u001b[0m\u001b[0m\n",
      "\u001b[1;31mNameError\u001b[0m: name 'pretrained_fmnist_model' is not defined"
     ]
    }
   ],
   "source": [
    "# We don't trained the parameters before last layer \n",
    "for layer in pretrained_fmnist_model.layers[:-1]:\n",
    "  layer.trainable = False\n",
    "\n",
    "# checking the trainaible layer\n",
    "for layer in pretrained_fmnist_model.layers:\n",
    "  print(f\"{layer.name}: {layer.trainable}\")"
   ]
  },
  {
   "cell_type": "markdown",
   "id": "2b5d127d",
   "metadata": {},
   "source": [
    "**Defining new `train label` and `test label`**"
   ]
  },
  {
   "cell_type": "code",
   "execution_count": 11,
   "id": "29d63688",
   "metadata": {},
   "outputs": [
    {
     "data": {
      "text/plain": [
       "array([False, False, False, ..., False, False, False])"
      ]
     },
     "execution_count": 11,
     "metadata": {},
     "output_type": "execute_result"
    }
   ],
   "source": [
    "\n",
    "# index of 'coat' in train_labels is 4 \n",
    "\n",
    "coat_train_lbl = train_labels==4\n",
    "coat_train_lbl"
   ]
  },
  {
   "cell_type": "code",
   "execution_count": 12,
   "id": "a9877778",
   "metadata": {},
   "outputs": [
    {
     "data": {
      "text/plain": [
       "array([False, False, False, ..., False, False, False])"
      ]
     },
     "execution_count": 12,
     "metadata": {},
     "output_type": "execute_result"
    }
   ],
   "source": [
    "coat_test_lbl = test_labels == 4\n",
    "coat_test_lbl"
   ]
  },
  {
   "cell_type": "code",
   "execution_count": 21,
   "id": "05adbb86",
   "metadata": {},
   "outputs": [],
   "source": [
    "# \n",
    "lower_pretrained_layers = pretrained_fmnist_model.layers[:-1]\n",
    "\n",
    "# \n",
    "new_model = tf.keras.models.Sequential(lower_pretrained_layers)\n",
    "new_model.add(\n",
    "    tf.keras.layers.Dense(1, activation='sigmoid')\n",
    ")"
   ]
  },
  {
   "cell_type": "code",
   "execution_count": 22,
   "id": "a05fdc3c",
   "metadata": {},
   "outputs": [
    {
     "name": "stdout",
     "output_type": "stream",
     "text": [
      "Model: \"sequential_4\"\n",
      "_________________________________________________________________\n",
      "Layer (type)                 Output Shape              Param #   \n",
      "=================================================================\n",
      "flatten_1 (Flatten)          (None, 784)               0         \n",
      "_________________________________________________________________\n",
      "dense_2 (Dense)              (None, 128)               100480    \n",
      "_________________________________________________________________\n",
      "dense_8 (Dense)              (None, 1)                 129       \n",
      "=================================================================\n",
      "Total params: 100,609\n",
      "Trainable params: 129\n",
      "Non-trainable params: 100,480\n",
      "_________________________________________________________________\n"
     ]
    }
   ],
   "source": [
    "new_model.summary()"
   ]
  },
  {
   "cell_type": "code",
   "execution_count": 23,
   "id": "4deb9498",
   "metadata": {},
   "outputs": [],
   "source": [
    "loss = tf.keras.losses.binary_crossentropy\n",
    "new_model.compile(loss=loss,\n",
    "                  optimizer = tf.keras.optimizers.SGD(learning_rate=1e-3),\n",
    "                  metrics = ['accuracy'])"
   ]
  },
  {
   "cell_type": "code",
   "execution_count": 24,
   "id": "0aa4d5a9",
   "metadata": {},
   "outputs": [
    {
     "name": "stdout",
     "output_type": "stream",
     "text": [
      "Model: \"sequential_4\"\n",
      "_________________________________________________________________\n",
      "Layer (type)                 Output Shape              Param #   \n",
      "=================================================================\n",
      "flatten_1 (Flatten)          (None, 784)               0         \n",
      "_________________________________________________________________\n",
      "dense_2 (Dense)              (None, 128)               100480    \n",
      "_________________________________________________________________\n",
      "dense_8 (Dense)              (None, 1)                 129       \n",
      "=================================================================\n",
      "Total params: 100,609\n",
      "Trainable params: 129\n",
      "Non-trainable params: 100,480\n",
      "_________________________________________________________________\n"
     ]
    }
   ],
   "source": [
    "new_model.summary()"
   ]
  },
  {
   "cell_type": "code",
   "execution_count": 25,
   "id": "718897cb",
   "metadata": {},
   "outputs": [
    {
     "name": "stderr",
     "output_type": "stream",
     "text": [
      "2021/06/15 09:48:41 INFO mlflow.utils.autologging_utils: Created MLflow autologging run with ID 'f8b19c4b1b524262a36d04ae8f0e09c8', which will track hyperparameters, performance metrics, model artifacts, and lineage information for the current tensorflow workflow\n"
     ]
    },
    {
     "name": "stdout",
     "output_type": "stream",
     "text": [
      "Epoch 1/10\n",
      "WARNING:tensorflow:Callback method `on_train_batch_end` is slow compared to the batch time (batch time: 0.0022s vs `on_train_batch_end` time: 0.1674s). Check your callbacks.\n",
      "1875/1875 - 5s - loss: 0.2786 - accuracy: 0.9071 - val_loss: 0.2083 - val_accuracy: 0.9210\n",
      "Epoch 2/10\n",
      "1875/1875 - 3s - loss: 0.1857 - accuracy: 0.9312 - val_loss: 0.1742 - val_accuracy: 0.9321\n",
      "Epoch 3/10\n",
      "1875/1875 - 3s - loss: 0.1605 - accuracy: 0.9377 - val_loss: 0.1588 - val_accuracy: 0.9348\n",
      "Epoch 4/10\n",
      "1875/1875 - 3s - loss: 0.1469 - accuracy: 0.9424 - val_loss: 0.1495 - val_accuracy: 0.9395\n",
      "Epoch 5/10\n",
      "1875/1875 - 3s - loss: 0.1381 - accuracy: 0.9461 - val_loss: 0.1432 - val_accuracy: 0.9429\n",
      "Epoch 6/10\n",
      "1875/1875 - 3s - loss: 0.1317 - accuracy: 0.9488 - val_loss: 0.1386 - val_accuracy: 0.9437\n",
      "Epoch 7/10\n",
      "1875/1875 - 3s - loss: 0.1269 - accuracy: 0.9505 - val_loss: 0.1350 - val_accuracy: 0.9456\n",
      "Epoch 8/10\n",
      "1875/1875 - 3s - loss: 0.1231 - accuracy: 0.9521 - val_loss: 0.1323 - val_accuracy: 0.9464\n",
      "Epoch 9/10\n",
      "1875/1875 - 3s - loss: 0.1201 - accuracy: 0.9531 - val_loss: 0.1299 - val_accuracy: 0.9466\n",
      "Epoch 10/10\n",
      "1875/1875 - 3s - loss: 0.1175 - accuracy: 0.9541 - val_loss: 0.1280 - val_accuracy: 0.9473\n",
      "INFO:tensorflow:Assets written to: C:\\Users\\SONURA~1.JHA\\AppData\\Local\\Temp\\tmp7otdp3li\\model\\data\\model\\assets\n"
     ]
    }
   ],
   "source": [
    "history = new_model.fit(train_images, coat_train_lbl, epochs=10,\n",
    "                    validation_data=(test_images, coat_test_lbl), verbose=2)"
   ]
  },
  {
   "cell_type": "markdown",
   "id": "87aeea7f",
   "metadata": {},
   "source": [
    "## Observations : \n",
    "- As you can see the model starts training from the  val_loss 0.208, and val_accuracy  0.9210. Which is just after the trained model.\n",
    "- "
   ]
  },
  {
   "cell_type": "code",
   "execution_count": null,
   "id": "6a5ee661",
   "metadata": {},
   "outputs": [],
   "source": []
  }
 ],
 "metadata": {
  "kernelspec": {
   "display_name": "Python 3",
   "language": "python",
   "name": "python3"
  },
  "language_info": {
   "codemirror_mode": {
    "name": "ipython",
    "version": 3
   },
   "file_extension": ".py",
   "mimetype": "text/x-python",
   "name": "python",
   "nbconvert_exporter": "python",
   "pygments_lexer": "ipython3",
   "version": "3.9.5"
  }
 },
 "nbformat": 4,
 "nbformat_minor": 5
}
