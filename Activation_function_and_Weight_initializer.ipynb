{
  "nbformat": 4,
  "nbformat_minor": 0,
  "metadata": {
    "colab": {
      "name": "Activation_function_and_Weight_initializer.ipynb",
      "provenance": [],
      "collapsed_sections": [],
      "authorship_tag": "ABX9TyNlEj1rzq8SCVX/oKeYinry",
      "include_colab_link": true
    },
    "kernelspec": {
      "name": "python3",
      "display_name": "Python 3"
    },
    "language_info": {
      "name": "python"
    },
    "accelerator": "GPU"
  },
  "cells": [
    {
      "cell_type": "markdown",
      "metadata": {
        "id": "view-in-github",
        "colab_type": "text"
      },
      "source": [
        "<a href=\"https://colab.research.google.com/github/skj092/experiments/blob/main/Activation_function_and_Weight_initializer.ipynb\" target=\"_parent\"><img src=\"https://colab.research.google.com/assets/colab-badge.svg\" alt=\"Open In Colab\"/></a>"
      ]
    },
    {
      "cell_type": "markdown",
      "metadata": {
        "id": "RK3JOifWzsDi"
      },
      "source": [
        "# Objective : \n",
        "\n",
        "**To Study different activation functions and weight initializers**"
      ]
    },
    {
      "cell_type": "code",
      "metadata": {
        "colab": {
          "base_uri": "https://localhost:8080/"
        },
        "id": "emc1KI4y0X75",
        "outputId": "0aa49176-0911-4cf1-bf54-22ef24ba1838"
      },
      "source": [
        "!pip install mlflow -q"
      ],
      "execution_count": 2,
      "outputs": [
        {
          "output_type": "stream",
          "text": [
            "\u001b[K     |████████████████████████████████| 14.2MB 209kB/s \n",
            "\u001b[K     |████████████████████████████████| 153kB 44.2MB/s \n",
            "\u001b[K     |████████████████████████████████| 174kB 34.5MB/s \n",
            "\u001b[K     |████████████████████████████████| 61kB 8.3MB/s \n",
            "\u001b[K     |████████████████████████████████| 1.1MB 33.5MB/s \n",
            "\u001b[K     |████████████████████████████████| 81kB 9.7MB/s \n",
            "\u001b[K     |████████████████████████████████| 71kB 7.6MB/s \n",
            "\u001b[K     |████████████████████████████████| 71kB 8.9MB/s \n",
            "\u001b[K     |████████████████████████████████| 81kB 9.6MB/s \n",
            "\u001b[?25h  Building wheel for prometheus-flask-exporter (setup.py) ... \u001b[?25l\u001b[?25hdone\n",
            "  Building wheel for databricks-cli (setup.py) ... \u001b[?25l\u001b[?25hdone\n",
            "  Building wheel for alembic (setup.py) ... \u001b[?25l\u001b[?25hdone\n"
          ],
          "name": "stdout"
        }
      ]
    },
    {
      "cell_type": "code",
      "metadata": {
        "colab": {
          "base_uri": "https://localhost:8080/"
        },
        "id": "HZhYnGSP0AoG",
        "outputId": "b55dbe5f-205f-42a5-83fa-d77adbea8a08"
      },
      "source": [
        "# TensorFlow and tf.keras\n",
        "import tensorflow as tf\n",
        "\n",
        "# Helper libraries\n",
        "import numpy as np\n",
        "from tensorflow.keras import initializers\n",
        "from tensorflow.python.keras import activations\n",
        "\n",
        "print(tf.__version__)\n",
        "\n",
        "# downloading fashion_mnist data\n",
        "fashion_mnist = tf.keras.datasets.fashion_mnist\n",
        "\n",
        "(train_images, train_labels), (test_images, test_labels) = fashion_mnist.load_data()\n",
        "\n",
        "class_names = ['T-shirt/top', 'Trouser', 'Pullover', 'Dress', 'Coat',\n",
        "               'Sandal', 'Shirt', 'Sneaker', 'Bag', 'Ankle boot']\n",
        "\n",
        "train_images = train_images / 255.0\n",
        "\n",
        "test_images = test_images / 255.0              \n",
        "\n",
        "\n",
        "import mlflow.tensorflow\n",
        "mlflow.tensorflow.autolog()"
      ],
      "execution_count": 3,
      "outputs": [
        {
          "output_type": "stream",
          "text": [
            "2.5.0\n"
          ],
          "name": "stdout"
        },
        {
          "output_type": "stream",
          "text": [
            "2021/06/13 10:06:24 WARNING mlflow.utils.autologging_utils: You are using an unsupported version of tensorflow. If you encounter errors during autologging, try upgrading / downgrading tensorflow to a supported version, or try upgrading MLflow.\n"
          ],
          "name": "stderr"
        }
      ]
    },
    {
      "cell_type": "markdown",
      "metadata": {
        "id": "d7m7ONXi3uoA"
      },
      "source": [
        "# With Default Weight Initializer"
      ]
    },
    {
      "cell_type": "markdown",
      "metadata": {
        "id": "2rkDVMV41rdj"
      },
      "source": [
        "## 1. relu"
      ]
    },
    {
      "cell_type": "code",
      "metadata": {
        "colab": {
          "base_uri": "https://localhost:8080/"
        },
        "id": "6slPJNcx0s-V",
        "outputId": "64068951-6161-45b4-e655-226d94bb242d"
      },
      "source": [
        "activation = tf.keras.activations.relu\n",
        "\n",
        "model = tf.keras.Sequential([\n",
        "tf.keras.layers.Flatten(input_shape=(28, 28)),\n",
        "tf.keras.layers.Dense(128, activation=activation),\n",
        "tf.keras.layers.Dense(10)\n",
        "])\n",
        "\n",
        "model.compile(optimizer='adam',loss=tf.keras.losses.SparseCategoricalCrossentropy(from_logits=True),metrics=['accuracy'])\n",
        "\n",
        "# model summary\n",
        "model.summary()\n",
        "\n",
        "with mlflow.start_run():\n",
        "\n",
        "    model.fit(train_images, train_labels, epochs=10)\n",
        "\n",
        "    test_loss, test_acc = model.evaluate(test_images,  test_labels, verbose=2)\n",
        "\n",
        "    print('test_loss', test_loss)\n",
        "    print('test_accuracy', test_acc)\n",
        "\n",
        "    mlflow.tensorflow.mlflow.log_metric('test_loss', test_loss)\n",
        "    mlflow.tensorflow.mlflow.log_metric('test_acc', test_acc)  \n",
        "    mlflow.tensorflow.mlflow.log_param('initializer',model.layers[1].kernel_initializer)\n",
        "    mlflow.tensorflow.mlflow.log_param('activation', activation)"
      ],
      "execution_count": 4,
      "outputs": [
        {
          "output_type": "stream",
          "text": [
            "Model: \"sequential\"\n",
            "_________________________________________________________________\n",
            "Layer (type)                 Output Shape              Param #   \n",
            "=================================================================\n",
            "flatten (Flatten)            (None, 784)               0         \n",
            "_________________________________________________________________\n",
            "dense (Dense)                (None, 128)               100480    \n",
            "_________________________________________________________________\n",
            "dense_1 (Dense)              (None, 10)                1290      \n",
            "=================================================================\n",
            "Total params: 101,770\n",
            "Trainable params: 101,770\n",
            "Non-trainable params: 0\n",
            "_________________________________________________________________\n",
            "Epoch 1/10\n",
            "   3/1875 [..............................] - ETA: 5:18 - loss: 2.2716 - accuracy: 0.1979WARNING:tensorflow:Callback method `on_train_batch_begin` is slow compared to the batch time (batch time: 0.0026s vs `on_train_batch_begin` time: 0.0229s). Check your callbacks.\n",
            "WARNING:tensorflow:Callback method `on_train_batch_end` is slow compared to the batch time (batch time: 0.0026s vs `on_train_batch_end` time: 0.0338s). Check your callbacks.\n",
            "1875/1875 [==============================] - 7s 2ms/step - loss: 0.4926 - accuracy: 0.8264\n",
            "Epoch 2/10\n",
            "1875/1875 [==============================] - 4s 2ms/step - loss: 0.3727 - accuracy: 0.8650\n",
            "Epoch 3/10\n",
            "1875/1875 [==============================] - 4s 2ms/step - loss: 0.3343 - accuracy: 0.8782\n",
            "Epoch 4/10\n",
            "1875/1875 [==============================] - 4s 2ms/step - loss: 0.3101 - accuracy: 0.8861\n",
            "Epoch 5/10\n",
            "1875/1875 [==============================] - 4s 2ms/step - loss: 0.2908 - accuracy: 0.8931\n",
            "Epoch 6/10\n",
            "1875/1875 [==============================] - 4s 2ms/step - loss: 0.2775 - accuracy: 0.8973\n",
            "Epoch 7/10\n",
            "1875/1875 [==============================] - 4s 2ms/step - loss: 0.2652 - accuracy: 0.9012\n",
            "Epoch 8/10\n",
            "1875/1875 [==============================] - 4s 2ms/step - loss: 0.2565 - accuracy: 0.9053\n",
            "Epoch 9/10\n",
            "1875/1875 [==============================] - 4s 2ms/step - loss: 0.2463 - accuracy: 0.9088\n",
            "Epoch 10/10\n",
            "1875/1875 [==============================] - 4s 2ms/step - loss: 0.2378 - accuracy: 0.9109\n",
            "INFO:tensorflow:Assets written to: /tmp/tmp1ag4_43a/model/data/model/assets\n",
            "313/313 - 1s - loss: 0.3364 - accuracy: 0.8807\n",
            "test_loss 0.3364388644695282\n",
            "test_accuracy 0.8806999921798706\n"
          ],
          "name": "stdout"
        }
      ]
    },
    {
      "cell_type": "markdown",
      "metadata": {
        "id": "tSAQyFF-15G3"
      },
      "source": [
        "## 2. Softmax"
      ]
    },
    {
      "cell_type": "code",
      "metadata": {
        "colab": {
          "base_uri": "https://localhost:8080/"
        },
        "id": "7IjieM_X0w0R",
        "outputId": "acc490d1-d22d-4b57-c5a3-5c2e3fa55a2d"
      },
      "source": [
        "activation = tf.keras.activations.softmax\n",
        "\n",
        "model = tf.keras.Sequential([\n",
        "tf.keras.layers.Flatten(input_shape=(28, 28)),\n",
        "tf.keras.layers.Dense(128, activation=activation),\n",
        "tf.keras.layers.Dense(10)\n",
        "])\n",
        "\n",
        "model.compile(optimizer='adam',loss=tf.keras.losses.SparseCategoricalCrossentropy(from_logits=True),metrics=['accuracy'])\n",
        "\n",
        "# model summary\n",
        "model.summary()\n",
        "\n",
        "with mlflow.start_run():\n",
        "\n",
        "    model.fit(train_images, train_labels, epochs=10)\n",
        "\n",
        "    test_loss, test_acc = model.evaluate(test_images,  test_labels, verbose=2)\n",
        "\n",
        "    print('test_loss', test_loss)\n",
        "    print('test_accuracy', test_acc)\n",
        "\n",
        "    mlflow.tensorflow.mlflow.log_metric('test_loss', test_loss)\n",
        "    mlflow.tensorflow.mlflow.log_metric('test_acc', test_acc)  \n",
        "    mlflow.tensorflow.mlflow.log_param('initializer', model.layers[1].kernel_initializer)\n",
        "    mlflow.tensorflow.mlflow.log_param('activation', activation)"
      ],
      "execution_count": 5,
      "outputs": [
        {
          "output_type": "stream",
          "text": [
            "Model: \"sequential_1\"\n",
            "_________________________________________________________________\n",
            "Layer (type)                 Output Shape              Param #   \n",
            "=================================================================\n",
            "flatten_1 (Flatten)          (None, 784)               0         \n",
            "_________________________________________________________________\n",
            "dense_2 (Dense)              (None, 128)               100480    \n",
            "_________________________________________________________________\n",
            "dense_3 (Dense)              (None, 10)                1290      \n",
            "=================================================================\n",
            "Total params: 101,770\n",
            "Trainable params: 101,770\n",
            "Non-trainable params: 0\n",
            "_________________________________________________________________\n",
            "Epoch 1/10\n",
            "   3/1875 [..............................] - ETA: 4:34 - loss: 2.3008 - accuracy: 0.1771WARNING:tensorflow:Callback method `on_train_batch_begin` is slow compared to the batch time (batch time: 0.0028s vs `on_train_batch_begin` time: 0.0168s). Check your callbacks.\n",
            "WARNING:tensorflow:Callback method `on_train_batch_end` is slow compared to the batch time (batch time: 0.0028s vs `on_train_batch_end` time: 0.0316s). Check your callbacks.\n",
            "1875/1875 [==============================] - 5s 2ms/step - loss: 1.4005 - accuracy: 0.6022\n",
            "Epoch 2/10\n",
            "1875/1875 [==============================] - 4s 2ms/step - loss: 0.8426 - accuracy: 0.6703\n",
            "Epoch 3/10\n",
            "1875/1875 [==============================] - 4s 2ms/step - loss: 0.7244 - accuracy: 0.6929\n",
            "Epoch 4/10\n",
            "1875/1875 [==============================] - 4s 2ms/step - loss: 0.6696 - accuracy: 0.7225\n",
            "Epoch 5/10\n",
            "1875/1875 [==============================] - 4s 2ms/step - loss: 0.6306 - accuracy: 0.7416\n",
            "Epoch 6/10\n",
            "1875/1875 [==============================] - 4s 2ms/step - loss: 0.6095 - accuracy: 0.7477\n",
            "Epoch 7/10\n",
            "1875/1875 [==============================] - 4s 2ms/step - loss: 0.5909 - accuracy: 0.7582\n",
            "Epoch 8/10\n",
            "1875/1875 [==============================] - 4s 2ms/step - loss: 0.5600 - accuracy: 0.7943\n",
            "Epoch 9/10\n",
            "1875/1875 [==============================] - 4s 2ms/step - loss: 0.5135 - accuracy: 0.8286\n",
            "Epoch 10/10\n",
            "1875/1875 [==============================] - 4s 2ms/step - loss: 0.4847 - accuracy: 0.8383\n",
            "INFO:tensorflow:Assets written to: /tmp/tmpuz62lysx/model/data/model/assets\n",
            "313/313 - 1s - loss: 0.5149 - accuracy: 0.8275\n",
            "test_loss 0.5149350166320801\n",
            "test_accuracy 0.8274999856948853\n"
          ],
          "name": "stdout"
        }
      ]
    },
    {
      "cell_type": "markdown",
      "metadata": {
        "id": "2YZlBOw22Bd7"
      },
      "source": [
        "## 3. Sigmoid"
      ]
    },
    {
      "cell_type": "code",
      "metadata": {
        "colab": {
          "base_uri": "https://localhost:8080/"
        },
        "id": "Rp_IfneF2HBK",
        "outputId": "ac0a27ab-458c-4250-c4e9-0c93b6103de4"
      },
      "source": [
        "activation = tf.keras.activations.sigmoid\n",
        "\n",
        "model = tf.keras.Sequential([\n",
        "tf.keras.layers.Flatten(input_shape=(28, 28)),\n",
        "tf.keras.layers.Dense(128, activation=activation),\n",
        "tf.keras.layers.Dense(10)\n",
        "])\n",
        "\n",
        "model.compile(optimizer='adam',loss=tf.keras.losses.SparseCategoricalCrossentropy(from_logits=True),metrics=['accuracy'])\n",
        "\n",
        "# model summary\n",
        "model.summary()\n",
        "\n",
        "with mlflow.start_run():\n",
        "\n",
        "    model.fit(train_images, train_labels, epochs=10)\n",
        "\n",
        "    test_loss, test_acc = model.evaluate(test_images,  test_labels, verbose=2)\n",
        "\n",
        "    print('test_loss', test_loss)\n",
        "    print('test_accuracy', test_acc)\n",
        "\n",
        "    mlflow.tensorflow.mlflow.log_metric('test_loss', test_loss)\n",
        "    mlflow.tensorflow.mlflow.log_metric('test_acc', test_acc)  \n",
        "    mlflow.tensorflow.mlflow.log_param('initializer', model.layers[1].kernel_initializer)\n",
        "    mlflow.tensorflow.mlflow.log_param('activation', activation)"
      ],
      "execution_count": 6,
      "outputs": [
        {
          "output_type": "stream",
          "text": [
            "Model: \"sequential_2\"\n",
            "_________________________________________________________________\n",
            "Layer (type)                 Output Shape              Param #   \n",
            "=================================================================\n",
            "flatten_2 (Flatten)          (None, 784)               0         \n",
            "_________________________________________________________________\n",
            "dense_4 (Dense)              (None, 128)               100480    \n",
            "_________________________________________________________________\n",
            "dense_5 (Dense)              (None, 10)                1290      \n",
            "=================================================================\n",
            "Total params: 101,770\n",
            "Trainable params: 101,770\n",
            "Non-trainable params: 0\n",
            "_________________________________________________________________\n",
            "Epoch 1/10\n",
            "   3/1875 [..............................] - ETA: 4:52 - loss: 2.5092 - accuracy: 0.1354WARNING:tensorflow:Callback method `on_train_batch_begin` is slow compared to the batch time (batch time: 0.0030s vs `on_train_batch_begin` time: 0.0170s). Check your callbacks.\n",
            "WARNING:tensorflow:Callback method `on_train_batch_end` is slow compared to the batch time (batch time: 0.0030s vs `on_train_batch_end` time: 0.0345s). Check your callbacks.\n",
            "1875/1875 [==============================] - 5s 2ms/step - loss: 0.5435 - accuracy: 0.8143\n",
            "Epoch 2/10\n",
            "1875/1875 [==============================] - 4s 2ms/step - loss: 0.3905 - accuracy: 0.8595\n",
            "Epoch 3/10\n",
            "1875/1875 [==============================] - 4s 2ms/step - loss: 0.3541 - accuracy: 0.8714\n",
            "Epoch 4/10\n",
            "1875/1875 [==============================] - 4s 2ms/step - loss: 0.3288 - accuracy: 0.8806\n",
            "Epoch 5/10\n",
            "1875/1875 [==============================] - 4s 2ms/step - loss: 0.3105 - accuracy: 0.8858\n",
            "Epoch 6/10\n",
            "1875/1875 [==============================] - 4s 2ms/step - loss: 0.2956 - accuracy: 0.8923\n",
            "Epoch 7/10\n",
            "1875/1875 [==============================] - 4s 2ms/step - loss: 0.2821 - accuracy: 0.8961\n",
            "Epoch 8/10\n",
            "1875/1875 [==============================] - 4s 2ms/step - loss: 0.2711 - accuracy: 0.9000\n",
            "Epoch 9/10\n",
            "1875/1875 [==============================] - 4s 2ms/step - loss: 0.2598 - accuracy: 0.9049\n",
            "Epoch 10/10\n",
            "1875/1875 [==============================] - 4s 2ms/step - loss: 0.2503 - accuracy: 0.9078\n",
            "INFO:tensorflow:Assets written to: /tmp/tmpsij0q11y/model/data/model/assets\n",
            "313/313 - 1s - loss: 0.3451 - accuracy: 0.8767\n",
            "test_loss 0.3450588285923004\n",
            "test_accuracy 0.8766999840736389\n"
          ],
          "name": "stdout"
        }
      ]
    },
    {
      "cell_type": "markdown",
      "metadata": {
        "id": "HOXH0hMj2Nhy"
      },
      "source": [
        "## 4. tanh"
      ]
    },
    {
      "cell_type": "code",
      "metadata": {
        "colab": {
          "base_uri": "https://localhost:8080/"
        },
        "id": "liCWUr-A2VQp",
        "outputId": "48bc84c3-6f9d-4747-f24e-2d6ff873efe4"
      },
      "source": [
        "activation = tf.keras.activations.tanh\n",
        "\n",
        "model = tf.keras.Sequential([\n",
        "tf.keras.layers.Flatten(input_shape=(28, 28)),\n",
        "tf.keras.layers.Dense(128, activation=activation),\n",
        "tf.keras.layers.Dense(10)\n",
        "])\n",
        "\n",
        "model.compile(optimizer='adam',loss=tf.keras.losses.SparseCategoricalCrossentropy(from_logits=True),metrics=['accuracy'])\n",
        "\n",
        "# model summary\n",
        "model.summary()\n",
        "\n",
        "with mlflow.start_run():\n",
        "\n",
        "    model.fit(train_images, train_labels, epochs=10)\n",
        "\n",
        "    test_loss, test_acc = model.evaluate(test_images,  test_labels, verbose=2)\n",
        "\n",
        "    print('test_loss', test_loss)\n",
        "    print('test_accuracy', test_acc)\n",
        "\n",
        "    mlflow.tensorflow.mlflow.log_metric('test_loss', test_loss)\n",
        "    mlflow.tensorflow.mlflow.log_metric('test_acc', test_acc)  \n",
        "    mlflow.tensorflow.mlflow.log_param('initializer', model.layers[1].kernel_initializer)\n",
        "    mlflow.tensorflow.mlflow.log_param('activation', activation)"
      ],
      "execution_count": 7,
      "outputs": [
        {
          "output_type": "stream",
          "text": [
            "Model: \"sequential_3\"\n",
            "_________________________________________________________________\n",
            "Layer (type)                 Output Shape              Param #   \n",
            "=================================================================\n",
            "flatten_3 (Flatten)          (None, 784)               0         \n",
            "_________________________________________________________________\n",
            "dense_6 (Dense)              (None, 128)               100480    \n",
            "_________________________________________________________________\n",
            "dense_7 (Dense)              (None, 10)                1290      \n",
            "=================================================================\n",
            "Total params: 101,770\n",
            "Trainable params: 101,770\n",
            "Non-trainable params: 0\n",
            "_________________________________________________________________\n",
            "Epoch 1/10\n",
            "   3/1875 [..............................] - ETA: 4:31 - loss: 2.1088 - accuracy: 0.2500WARNING:tensorflow:Callback method `on_train_batch_begin` is slow compared to the batch time (batch time: 0.0022s vs `on_train_batch_begin` time: 0.0170s). Check your callbacks.\n",
            "WARNING:tensorflow:Callback method `on_train_batch_end` is slow compared to the batch time (batch time: 0.0022s vs `on_train_batch_end` time: 0.0321s). Check your callbacks.\n",
            "1875/1875 [==============================] - 5s 2ms/step - loss: 0.4751 - accuracy: 0.8273\n",
            "Epoch 2/10\n",
            "1875/1875 [==============================] - 4s 2ms/step - loss: 0.3683 - accuracy: 0.8657\n",
            "Epoch 3/10\n",
            "1875/1875 [==============================] - 4s 2ms/step - loss: 0.3339 - accuracy: 0.8783\n",
            "Epoch 4/10\n",
            "1875/1875 [==============================] - 4s 2ms/step - loss: 0.3122 - accuracy: 0.8851\n",
            "Epoch 5/10\n",
            "1875/1875 [==============================] - 4s 2ms/step - loss: 0.2945 - accuracy: 0.8904\n",
            "Epoch 6/10\n",
            "1875/1875 [==============================] - 4s 2ms/step - loss: 0.2835 - accuracy: 0.8945\n",
            "Epoch 7/10\n",
            "1875/1875 [==============================] - 4s 2ms/step - loss: 0.2708 - accuracy: 0.9004\n",
            "Epoch 8/10\n",
            "1875/1875 [==============================] - 4s 2ms/step - loss: 0.2587 - accuracy: 0.9028\n",
            "Epoch 9/10\n",
            "1875/1875 [==============================] - 4s 2ms/step - loss: 0.2494 - accuracy: 0.9062\n",
            "Epoch 10/10\n",
            "1875/1875 [==============================] - 4s 2ms/step - loss: 0.2396 - accuracy: 0.9101\n",
            "INFO:tensorflow:Assets written to: /tmp/tmppjir97qh/model/data/model/assets\n",
            "313/313 - 1s - loss: 0.3354 - accuracy: 0.8812\n",
            "test_loss 0.33539706468582153\n",
            "test_accuracy 0.8812000155448914\n"
          ],
          "name": "stdout"
        }
      ]
    },
    {
      "cell_type": "markdown",
      "metadata": {
        "id": "6sAswU_92YbZ"
      },
      "source": [
        "## 5. selu"
      ]
    },
    {
      "cell_type": "code",
      "metadata": {
        "colab": {
          "base_uri": "https://localhost:8080/"
        },
        "id": "pTr0GwDa2a7B",
        "outputId": "f3f54393-7453-4cd3-ed05-075940445d6d"
      },
      "source": [
        "activation = tf.keras.activations.selu\n",
        "\n",
        "model = tf.keras.Sequential([\n",
        "tf.keras.layers.Flatten(input_shape=(28, 28)),\n",
        "tf.keras.layers.Dense(128, activation=activation),\n",
        "tf.keras.layers.Dense(10)\n",
        "])\n",
        "\n",
        "model.compile(optimizer='adam',loss=tf.keras.losses.SparseCategoricalCrossentropy(from_logits=True),metrics=['accuracy'])\n",
        "\n",
        "# model summary\n",
        "model.summary()\n",
        "\n",
        "with mlflow.start_run():\n",
        "\n",
        "    model.fit(train_images, train_labels, epochs=10)\n",
        "\n",
        "    test_loss, test_acc = model.evaluate(test_images,  test_labels, verbose=2)\n",
        "\n",
        "    print('test_loss', test_loss)\n",
        "    print('test_accuracy', test_acc)\n",
        "\n",
        "    mlflow.tensorflow.mlflow.log_metric('test_loss', test_loss)\n",
        "    mlflow.tensorflow.mlflow.log_metric('test_acc', test_acc)  \n",
        "    mlflow.tensorflow.mlflow.log_param('initializer', model.layers[1].kernel_initializer)\n",
        "    mlflow.tensorflow.mlflow.log_param('activation', activation)"
      ],
      "execution_count": 8,
      "outputs": [
        {
          "output_type": "stream",
          "text": [
            "Model: \"sequential_4\"\n",
            "_________________________________________________________________\n",
            "Layer (type)                 Output Shape              Param #   \n",
            "=================================================================\n",
            "flatten_4 (Flatten)          (None, 784)               0         \n",
            "_________________________________________________________________\n",
            "dense_8 (Dense)              (None, 128)               100480    \n",
            "_________________________________________________________________\n",
            "dense_9 (Dense)              (None, 10)                1290      \n",
            "=================================================================\n",
            "Total params: 101,770\n",
            "Trainable params: 101,770\n",
            "Non-trainable params: 0\n",
            "_________________________________________________________________\n",
            "Epoch 1/10\n",
            "   3/1875 [..............................] - ETA: 4:49 - loss: 2.3551 - accuracy: 0.2604WARNING:tensorflow:Callback method `on_train_batch_begin` is slow compared to the batch time (batch time: 0.0024s vs `on_train_batch_begin` time: 0.0175s). Check your callbacks.\n",
            "WARNING:tensorflow:Callback method `on_train_batch_end` is slow compared to the batch time (batch time: 0.0024s vs `on_train_batch_end` time: 0.0346s). Check your callbacks.\n",
            "1875/1875 [==============================] - 5s 2ms/step - loss: 0.4932 - accuracy: 0.8245\n",
            "Epoch 2/10\n",
            "1875/1875 [==============================] - 4s 2ms/step - loss: 0.3913 - accuracy: 0.8572\n",
            "Epoch 3/10\n",
            "1875/1875 [==============================] - 4s 2ms/step - loss: 0.3523 - accuracy: 0.8706\n",
            "Epoch 4/10\n",
            "1875/1875 [==============================] - 4s 2ms/step - loss: 0.3268 - accuracy: 0.8795\n",
            "Epoch 5/10\n",
            "1875/1875 [==============================] - 4s 2ms/step - loss: 0.3079 - accuracy: 0.8864\n",
            "Epoch 6/10\n",
            "1875/1875 [==============================] - 4s 2ms/step - loss: 0.2923 - accuracy: 0.8912\n",
            "Epoch 7/10\n",
            "1875/1875 [==============================] - 4s 2ms/step - loss: 0.2799 - accuracy: 0.8951\n",
            "Epoch 8/10\n",
            "1875/1875 [==============================] - 4s 2ms/step - loss: 0.2674 - accuracy: 0.9005\n",
            "Epoch 9/10\n",
            "1875/1875 [==============================] - 4s 2ms/step - loss: 0.2573 - accuracy: 0.9027\n",
            "Epoch 10/10\n",
            "1875/1875 [==============================] - 4s 2ms/step - loss: 0.2470 - accuracy: 0.9064\n",
            "INFO:tensorflow:Assets written to: /tmp/tmppj8vw4ku/model/data/model/assets\n",
            "313/313 - 1s - loss: 0.3470 - accuracy: 0.8791\n",
            "test_loss 0.3469619154930115\n",
            "test_accuracy 0.8791000247001648\n"
          ],
          "name": "stdout"
        }
      ]
    },
    {
      "cell_type": "markdown",
      "metadata": {
        "id": "EAmHslRC2n7h"
      },
      "source": [
        "# With Weight Initializer"
      ]
    },
    {
      "cell_type": "markdown",
      "metadata": {
        "id": "pOvN2p-x2sa9"
      },
      "source": [
        "## 1. relu + he_normal"
      ]
    },
    {
      "cell_type": "code",
      "metadata": {
        "colab": {
          "base_uri": "https://localhost:8080/"
        },
        "id": "hC_nZhfo205b",
        "outputId": "9b9d6069-1613-41e6-96db-7bebc11752f6"
      },
      "source": [
        "activation = tf.keras.activations.relu\n",
        "initializer = tf.keras.initializers.he_normal\n",
        "\n",
        "model = tf.keras.Sequential([\n",
        "tf.keras.layers.Flatten(input_shape=(28, 28)),\n",
        "tf.keras.layers.Dense(128, activation=activation, kernel_initializer=initializer),\n",
        "tf.keras.layers.Dense(10,kernel_initializer=initializer)\n",
        "])\n",
        "\n",
        "model.compile(optimizer='adam',loss=tf.keras.losses.SparseCategoricalCrossentropy(from_logits=True),metrics=['accuracy'])\n",
        "\n",
        "# model summary\n",
        "model.summary()\n",
        "\n",
        "with mlflow.start_run():\n",
        "\n",
        "    model.fit(train_images, train_labels, epochs=10)\n",
        "\n",
        "    test_loss, test_acc = model.evaluate(test_images,  test_labels, verbose=2)\n",
        "\n",
        "    print('test_loss', test_loss)\n",
        "    print('test_accuracy', test_acc)\n",
        "\n",
        "    mlflow.tensorflow.mlflow.log_metric('test_loss', test_loss)\n",
        "    mlflow.tensorflow.mlflow.log_metric('test_acc', test_acc)  \n",
        "    mlflow.tensorflow.mlflow.log_param('activation', activation)\n",
        "    mlflow.tensorflow.mlflow.log_param('initializer',model.layers[1].kernel_initializer)"
      ],
      "execution_count": 9,
      "outputs": [
        {
          "output_type": "stream",
          "text": [
            "Model: \"sequential_5\"\n",
            "_________________________________________________________________\n",
            "Layer (type)                 Output Shape              Param #   \n",
            "=================================================================\n",
            "flatten_5 (Flatten)          (None, 784)               0         \n",
            "_________________________________________________________________\n",
            "dense_10 (Dense)             (None, 128)               100480    \n",
            "_________________________________________________________________\n",
            "dense_11 (Dense)             (None, 10)                1290      \n",
            "=================================================================\n",
            "Total params: 101,770\n",
            "Trainable params: 101,770\n",
            "Non-trainable params: 0\n",
            "_________________________________________________________________\n",
            "Epoch 1/10\n",
            "   3/1875 [..............................] - ETA: 4:33 - loss: 2.1459 - accuracy: 0.2500WARNING:tensorflow:Callback method `on_train_batch_begin` is slow compared to the batch time (batch time: 0.0022s vs `on_train_batch_begin` time: 0.0172s). Check your callbacks.\n",
            "WARNING:tensorflow:Callback method `on_train_batch_end` is slow compared to the batch time (batch time: 0.0022s vs `on_train_batch_end` time: 0.0318s). Check your callbacks.\n",
            "1875/1875 [==============================] - 5s 2ms/step - loss: 0.5068 - accuracy: 0.8225\n",
            "Epoch 2/10\n",
            "1875/1875 [==============================] - 4s 2ms/step - loss: 0.3815 - accuracy: 0.8630\n",
            "Epoch 3/10\n",
            "1875/1875 [==============================] - 4s 2ms/step - loss: 0.3430 - accuracy: 0.8752\n",
            "Epoch 4/10\n",
            "1875/1875 [==============================] - 4s 2ms/step - loss: 0.3204 - accuracy: 0.8828\n",
            "Epoch 5/10\n",
            "1875/1875 [==============================] - 4s 2ms/step - loss: 0.2999 - accuracy: 0.8896\n",
            "Epoch 6/10\n",
            "1875/1875 [==============================] - 4s 2ms/step - loss: 0.2861 - accuracy: 0.8933\n",
            "Epoch 7/10\n",
            "1875/1875 [==============================] - 4s 2ms/step - loss: 0.2741 - accuracy: 0.8970\n",
            "Epoch 8/10\n",
            "1875/1875 [==============================] - 4s 2ms/step - loss: 0.2621 - accuracy: 0.9029\n",
            "Epoch 9/10\n",
            "1875/1875 [==============================] - 4s 2ms/step - loss: 0.2531 - accuracy: 0.9061\n",
            "Epoch 10/10\n",
            "1875/1875 [==============================] - 4s 2ms/step - loss: 0.2423 - accuracy: 0.9089\n",
            "INFO:tensorflow:Assets written to: /tmp/tmpszwnhhkb/model/data/model/assets\n",
            "313/313 - 1s - loss: 0.3358 - accuracy: 0.8867\n",
            "test_loss 0.3357604742050171\n",
            "test_accuracy 0.8866999745368958\n"
          ],
          "name": "stdout"
        }
      ]
    },
    {
      "cell_type": "markdown",
      "metadata": {
        "id": "PokAZdFS27Hi"
      },
      "source": [
        "## 2. softmax + glorot_normal"
      ]
    },
    {
      "cell_type": "code",
      "metadata": {
        "colab": {
          "base_uri": "https://localhost:8080/"
        },
        "id": "_OxHguIq3EEv",
        "outputId": "c8721295-5acb-41ce-8e42-9decca81cc84"
      },
      "source": [
        "activation = tf.keras.activations.softmax\n",
        "initializer = tf.keras.initializers.glorot_normal\n",
        "\n",
        "model = tf.keras.Sequential([\n",
        "tf.keras.layers.Flatten(input_shape=(28, 28)),\n",
        "tf.keras.layers.Dense(128, activation=activation, kernel_initializer=initializer),\n",
        "tf.keras.layers.Dense(10,kernel_initializer=initializer)\n",
        "])\n",
        "\n",
        "model.compile(optimizer='adam',loss=tf.keras.losses.SparseCategoricalCrossentropy(from_logits=True),metrics=['accuracy'])\n",
        "\n",
        "# model summary\n",
        "model.summary()\n",
        "\n",
        "with mlflow.start_run():\n",
        "\n",
        "    model.fit(train_images, train_labels, epochs=10)\n",
        "\n",
        "    test_loss, test_acc = model.evaluate(test_images,  test_labels, verbose=2)\n",
        "\n",
        "    print('test_loss', test_loss)\n",
        "    print('test_accuracy', test_acc)\n",
        "\n",
        "    mlflow.tensorflow.mlflow.log_metric('test_loss', test_loss)\n",
        "    mlflow.tensorflow.mlflow.log_metric('test_acc', test_acc)  \n",
        "    mlflow.tensorflow.mlflow.log_param('activation', activation)\n",
        "    mlflow.tensorflow.mlflow.log_param('initializer',model.layers[1].kernel_initializer)"
      ],
      "execution_count": 10,
      "outputs": [
        {
          "output_type": "stream",
          "text": [
            "Model: \"sequential_6\"\n",
            "_________________________________________________________________\n",
            "Layer (type)                 Output Shape              Param #   \n",
            "=================================================================\n",
            "flatten_6 (Flatten)          (None, 784)               0         \n",
            "_________________________________________________________________\n",
            "dense_12 (Dense)             (None, 128)               100480    \n",
            "_________________________________________________________________\n",
            "dense_13 (Dense)             (None, 10)                1290      \n",
            "=================================================================\n",
            "Total params: 101,770\n",
            "Trainable params: 101,770\n",
            "Non-trainable params: 0\n",
            "_________________________________________________________________\n",
            "Epoch 1/10\n",
            "   3/1875 [..............................] - ETA: 4:45 - loss: 2.3006 - accuracy: 0.1146WARNING:tensorflow:Callback method `on_train_batch_begin` is slow compared to the batch time (batch time: 0.0023s vs `on_train_batch_begin` time: 0.0189s). Check your callbacks.\n",
            "WARNING:tensorflow:Callback method `on_train_batch_end` is slow compared to the batch time (batch time: 0.0023s vs `on_train_batch_end` time: 0.0321s). Check your callbacks.\n",
            "1875/1875 [==============================] - 5s 2ms/step - loss: 1.3742 - accuracy: 0.6333\n",
            "Epoch 2/10\n",
            "1875/1875 [==============================] - 4s 2ms/step - loss: 0.8280 - accuracy: 0.6804\n",
            "Epoch 3/10\n",
            "1875/1875 [==============================] - 4s 2ms/step - loss: 0.7182 - accuracy: 0.7108\n",
            "Epoch 4/10\n",
            "1875/1875 [==============================] - 4s 2ms/step - loss: 0.6582 - accuracy: 0.7341\n",
            "Epoch 5/10\n",
            "1875/1875 [==============================] - 4s 2ms/step - loss: 0.6267 - accuracy: 0.7434\n",
            "Epoch 6/10\n",
            "1875/1875 [==============================] - 4s 2ms/step - loss: 0.5993 - accuracy: 0.7559\n",
            "Epoch 7/10\n",
            "1875/1875 [==============================] - 4s 2ms/step - loss: 0.5576 - accuracy: 0.8047\n",
            "Epoch 8/10\n",
            "1875/1875 [==============================] - 4s 2ms/step - loss: 0.5132 - accuracy: 0.8252\n",
            "Epoch 9/10\n",
            "1875/1875 [==============================] - 4s 2ms/step - loss: 0.4888 - accuracy: 0.8349\n",
            "Epoch 10/10\n",
            "1875/1875 [==============================] - 4s 2ms/step - loss: 0.4730 - accuracy: 0.8419\n",
            "INFO:tensorflow:Assets written to: /tmp/tmpeakasqpg/model/data/model/assets\n",
            "313/313 - 1s - loss: 0.5077 - accuracy: 0.8318\n",
            "test_loss 0.5076874494552612\n",
            "test_accuracy 0.8317999839782715\n"
          ],
          "name": "stdout"
        }
      ]
    },
    {
      "cell_type": "markdown",
      "metadata": {
        "id": "TJ6vDPgk3LBu"
      },
      "source": [
        "## 3. sigmoid + glorot_mormal"
      ]
    },
    {
      "cell_type": "code",
      "metadata": {
        "colab": {
          "base_uri": "https://localhost:8080/"
        },
        "id": "fpVAA_HA3SBU",
        "outputId": "332345f0-bec4-4b06-a284-3a32aca8aa30"
      },
      "source": [
        "initializer = tf.keras.initializers.glorot_normal\n",
        "activation = tf.keras.activations.sigmoid\n",
        "\n",
        "model = tf.keras.Sequential([\n",
        "tf.keras.layers.Flatten(input_shape=(28, 28)),\n",
        "tf.keras.layers.Dense(128, activation=activation, kernel_initializer=initializer),\n",
        "tf.keras.layers.Dense(10,kernel_initializer=initializer)\n",
        "])\n",
        "\n",
        "model.compile(optimizer='adam',loss=tf.keras.losses.SparseCategoricalCrossentropy(from_logits=True),metrics=['accuracy'])\n",
        "\n",
        "# model summary\n",
        "model.summary()\n",
        "\n",
        "with mlflow.start_run():\n",
        "\n",
        "    model.fit(train_images, train_labels, epochs=10)\n",
        "\n",
        "    test_loss, test_acc = model.evaluate(test_images,  test_labels, verbose=2)\n",
        "\n",
        "    print('test_loss', test_loss)\n",
        "    print('test_accuracy', test_acc)\n",
        "\n",
        "    mlflow.tensorflow.mlflow.log_metric('test_loss', test_loss)\n",
        "    mlflow.tensorflow.mlflow.log_metric('test_acc', test_acc)  \n",
        "    mlflow.tensorflow.mlflow.log_param('activation', activation)\n",
        "    mlflow.tensorflow.mlflow.log_param('initializer',model.layers[1].kernel_initializer)"
      ],
      "execution_count": 11,
      "outputs": [
        {
          "output_type": "stream",
          "text": [
            "Model: \"sequential_7\"\n",
            "_________________________________________________________________\n",
            "Layer (type)                 Output Shape              Param #   \n",
            "=================================================================\n",
            "flatten_7 (Flatten)          (None, 784)               0         \n",
            "_________________________________________________________________\n",
            "dense_14 (Dense)             (None, 128)               100480    \n",
            "_________________________________________________________________\n",
            "dense_15 (Dense)             (None, 10)                1290      \n",
            "=================================================================\n",
            "Total params: 101,770\n",
            "Trainable params: 101,770\n",
            "Non-trainable params: 0\n",
            "_________________________________________________________________\n",
            "Epoch 1/10\n",
            "   3/1875 [..............................] - ETA: 4:47 - loss: 2.3095 - accuracy: 0.0938WARNING:tensorflow:Callback method `on_train_batch_begin` is slow compared to the batch time (batch time: 0.0027s vs `on_train_batch_begin` time: 0.0175s). Check your callbacks.\n",
            "WARNING:tensorflow:Callback method `on_train_batch_end` is slow compared to the batch time (batch time: 0.0027s vs `on_train_batch_end` time: 0.0334s). Check your callbacks.\n",
            "1875/1875 [==============================] - 5s 2ms/step - loss: 0.5449 - accuracy: 0.8157\n",
            "Epoch 2/10\n",
            "1875/1875 [==============================] - 4s 2ms/step - loss: 0.3913 - accuracy: 0.8583\n",
            "Epoch 3/10\n",
            "1875/1875 [==============================] - 4s 2ms/step - loss: 0.3551 - accuracy: 0.8710\n",
            "Epoch 4/10\n",
            "1875/1875 [==============================] - 4s 2ms/step - loss: 0.3309 - accuracy: 0.8795\n",
            "Epoch 5/10\n",
            "1875/1875 [==============================] - 4s 2ms/step - loss: 0.3116 - accuracy: 0.8869\n",
            "Epoch 6/10\n",
            "1875/1875 [==============================] - 4s 2ms/step - loss: 0.2971 - accuracy: 0.8914\n",
            "Epoch 7/10\n",
            "1875/1875 [==============================] - 4s 2ms/step - loss: 0.2825 - accuracy: 0.8959\n",
            "Epoch 8/10\n",
            "1875/1875 [==============================] - 4s 2ms/step - loss: 0.2711 - accuracy: 0.9012\n",
            "Epoch 9/10\n",
            "1875/1875 [==============================] - 4s 2ms/step - loss: 0.2605 - accuracy: 0.9045\n",
            "Epoch 10/10\n",
            "1875/1875 [==============================] - 4s 2ms/step - loss: 0.2517 - accuracy: 0.9063\n",
            "INFO:tensorflow:Assets written to: /tmp/tmpoja730i5/model/data/model/assets\n",
            "313/313 - 1s - loss: 0.3325 - accuracy: 0.8791\n",
            "test_loss 0.33247047662734985\n",
            "test_accuracy 0.8791000247001648\n"
          ],
          "name": "stdout"
        }
      ]
    },
    {
      "cell_type": "markdown",
      "metadata": {
        "id": "AQAk535u3VkC"
      },
      "source": [
        "## 4. tanh + glorot_normal"
      ]
    },
    {
      "cell_type": "code",
      "metadata": {
        "colab": {
          "base_uri": "https://localhost:8080/"
        },
        "id": "7gKVi1YH3cKK",
        "outputId": "91c0db1b-1162-41a6-c40b-210ab971e2fe"
      },
      "source": [
        "initializer = tf.keras.initializers.glorot_normal\n",
        "activation = tf.keras.activations.tanh\n",
        "\n",
        "model = tf.keras.Sequential([\n",
        "tf.keras.layers.Flatten(input_shape=(28, 28)),\n",
        "tf.keras.layers.Dense(128, activation=activation, kernel_initializer=initializer),\n",
        "tf.keras.layers.Dense(10,kernel_initializer=initializer)\n",
        "])\n",
        "\n",
        "model.compile(optimizer='adam',loss=tf.keras.losses.SparseCategoricalCrossentropy(from_logits=True),metrics=['accuracy'])\n",
        "\n",
        "# model summary\n",
        "model.summary()\n",
        "\n",
        "with mlflow.start_run():\n",
        "\n",
        "    model.fit(train_images, train_labels, epochs=10)\n",
        "\n",
        "    test_loss, test_acc = model.evaluate(test_images,  test_labels, verbose=2)\n",
        "\n",
        "    print('test_loss', test_loss)\n",
        "    print('test_accuracy', test_acc)\n",
        "\n",
        "    mlflow.tensorflow.mlflow.log_metric('test_loss', test_loss)\n",
        "    mlflow.tensorflow.mlflow.log_metric('test_acc', test_acc)  \n",
        "    mlflow.tensorflow.mlflow.log_param('activation', activation)\n",
        "    mlflow.tensorflow.mlflow.log_param('initializer',model.layers[1].kernel_initializer)"
      ],
      "execution_count": 12,
      "outputs": [
        {
          "output_type": "stream",
          "text": [
            "Model: \"sequential_8\"\n",
            "_________________________________________________________________\n",
            "Layer (type)                 Output Shape              Param #   \n",
            "=================================================================\n",
            "flatten_8 (Flatten)          (None, 784)               0         \n",
            "_________________________________________________________________\n",
            "dense_16 (Dense)             (None, 128)               100480    \n",
            "_________________________________________________________________\n",
            "dense_17 (Dense)             (None, 10)                1290      \n",
            "=================================================================\n",
            "Total params: 101,770\n",
            "Trainable params: 101,770\n",
            "Non-trainable params: 0\n",
            "_________________________________________________________________\n",
            "Epoch 1/10\n",
            "   3/1875 [..............................] - ETA: 4:37 - loss: 2.3226 - accuracy: 0.1562WARNING:tensorflow:Callback method `on_train_batch_begin` is slow compared to the batch time (batch time: 0.0024s vs `on_train_batch_begin` time: 0.0169s). Check your callbacks.\n",
            "WARNING:tensorflow:Callback method `on_train_batch_end` is slow compared to the batch time (batch time: 0.0024s vs `on_train_batch_end` time: 0.0325s). Check your callbacks.\n",
            "1875/1875 [==============================] - 5s 2ms/step - loss: 0.4754 - accuracy: 0.8293\n",
            "Epoch 2/10\n",
            "1875/1875 [==============================] - 4s 2ms/step - loss: 0.3702 - accuracy: 0.8647\n",
            "Epoch 3/10\n",
            "1875/1875 [==============================] - 4s 2ms/step - loss: 0.3357 - accuracy: 0.8766\n",
            "Epoch 4/10\n",
            "1875/1875 [==============================] - 4s 2ms/step - loss: 0.3158 - accuracy: 0.8837\n",
            "Epoch 5/10\n",
            "1875/1875 [==============================] - 4s 2ms/step - loss: 0.2939 - accuracy: 0.8909\n",
            "Epoch 6/10\n",
            "1875/1875 [==============================] - 4s 2ms/step - loss: 0.2791 - accuracy: 0.8963\n",
            "Epoch 7/10\n",
            "1875/1875 [==============================] - 4s 2ms/step - loss: 0.2689 - accuracy: 0.9000\n",
            "Epoch 8/10\n",
            "1875/1875 [==============================] - 4s 2ms/step - loss: 0.2610 - accuracy: 0.9033\n",
            "Epoch 9/10\n",
            "1875/1875 [==============================] - 4s 2ms/step - loss: 0.2515 - accuracy: 0.9068\n",
            "Epoch 10/10\n",
            "1875/1875 [==============================] - 4s 2ms/step - loss: 0.2433 - accuracy: 0.9086\n",
            "INFO:tensorflow:Assets written to: /tmp/tmpexcgvz4g/model/data/model/assets\n",
            "313/313 - 1s - loss: 0.3297 - accuracy: 0.8811\n",
            "test_loss 0.3296767473220825\n",
            "test_accuracy 0.8810999989509583\n"
          ],
          "name": "stdout"
        }
      ]
    },
    {
      "cell_type": "markdown",
      "metadata": {
        "id": "HPdn9AFa3g7c"
      },
      "source": [
        "## 5. selu + lucan_normal"
      ]
    },
    {
      "cell_type": "code",
      "metadata": {
        "colab": {
          "base_uri": "https://localhost:8080/"
        },
        "id": "cD1OySlD3k3_",
        "outputId": "5c8c10b3-a3a1-4da4-88d1-76d61449f2b1"
      },
      "source": [
        "activation = tf.keras.activations.selu\n",
        "initializer = tf.keras.initializers.lecun_normal\n",
        "\n",
        "initializer = tf.keras.initializers.glorot_normal\n",
        "activation = tf.keras.activations.tanh\n",
        "\n",
        "model = tf.keras.Sequential([\n",
        "tf.keras.layers.Flatten(input_shape=(28, 28)),\n",
        "tf.keras.layers.Dense(128, activation=activation, kernel_initializer=initializer),\n",
        "tf.keras.layers.Dense(10,kernel_initializer=initializer)\n",
        "])\n",
        "\n",
        "model.compile(optimizer='adam',loss=tf.keras.losses.SparseCategoricalCrossentropy(from_logits=True),metrics=['accuracy'])\n",
        "\n",
        "# model summary\n",
        "model.summary()\n",
        "\n",
        "with mlflow.start_run():\n",
        "\n",
        "    model.fit(train_images, train_labels, epochs=10)\n",
        "\n",
        "    test_loss, test_acc = model.evaluate(test_images,  test_labels, verbose=2)\n",
        "\n",
        "    print('test_loss', test_loss)\n",
        "    print('test_accuracy', test_acc)\n",
        "\n",
        "    mlflow.tensorflow.mlflow.log_metric('test_loss', test_loss)\n",
        "    mlflow.tensorflow.mlflow.log_metric('test_acc', test_acc)  \n",
        "    mlflow.tensorflow.mlflow.log_param('activation', activation)\n",
        "    mlflow.tensorflow.mlflow.log_param('initializer',model.layers[1].kernel_initializer)"
      ],
      "execution_count": 13,
      "outputs": [
        {
          "output_type": "stream",
          "text": [
            "Model: \"sequential_9\"\n",
            "_________________________________________________________________\n",
            "Layer (type)                 Output Shape              Param #   \n",
            "=================================================================\n",
            "flatten_9 (Flatten)          (None, 784)               0         \n",
            "_________________________________________________________________\n",
            "dense_18 (Dense)             (None, 128)               100480    \n",
            "_________________________________________________________________\n",
            "dense_19 (Dense)             (None, 10)                1290      \n",
            "=================================================================\n",
            "Total params: 101,770\n",
            "Trainable params: 101,770\n",
            "Non-trainable params: 0\n",
            "_________________________________________________________________\n",
            "Epoch 1/10\n",
            "   3/1875 [..............................] - ETA: 4:47 - loss: 2.3660 - accuracy: 0.1146WARNING:tensorflow:Callback method `on_train_batch_begin` is slow compared to the batch time (batch time: 0.0022s vs `on_train_batch_begin` time: 0.0174s). Check your callbacks.\n",
            "WARNING:tensorflow:Callback method `on_train_batch_end` is slow compared to the batch time (batch time: 0.0022s vs `on_train_batch_end` time: 0.0341s). Check your callbacks.\n",
            "1875/1875 [==============================] - 5s 2ms/step - loss: 0.4785 - accuracy: 0.8277\n",
            "Epoch 2/10\n",
            "1875/1875 [==============================] - 4s 2ms/step - loss: 0.3716 - accuracy: 0.8648\n",
            "Epoch 3/10\n",
            "1875/1875 [==============================] - 4s 2ms/step - loss: 0.3358 - accuracy: 0.8776\n",
            "Epoch 4/10\n",
            "1875/1875 [==============================] - 5s 2ms/step - loss: 0.3113 - accuracy: 0.8856\n",
            "Epoch 5/10\n",
            "1875/1875 [==============================] - 4s 2ms/step - loss: 0.2971 - accuracy: 0.8909\n",
            "Epoch 6/10\n",
            "1875/1875 [==============================] - 4s 2ms/step - loss: 0.2829 - accuracy: 0.8949\n",
            "Epoch 7/10\n",
            "1875/1875 [==============================] - 4s 2ms/step - loss: 0.2717 - accuracy: 0.8993\n",
            "Epoch 8/10\n",
            "1875/1875 [==============================] - 4s 2ms/step - loss: 0.2617 - accuracy: 0.9034\n",
            "Epoch 9/10\n",
            "1875/1875 [==============================] - 4s 2ms/step - loss: 0.2504 - accuracy: 0.9068\n",
            "Epoch 10/10\n",
            "1875/1875 [==============================] - 4s 2ms/step - loss: 0.2416 - accuracy: 0.9112\n",
            "INFO:tensorflow:Assets written to: /tmp/tmpbsi_n4iv/model/data/model/assets\n",
            "313/313 - 1s - loss: 0.3346 - accuracy: 0.8812\n",
            "test_loss 0.3346284031867981\n",
            "test_accuracy 0.8812000155448914\n"
          ],
          "name": "stdout"
        }
      ]
    },
    {
      "cell_type": "markdown",
      "metadata": {
        "id": "MCjnkWJC3qOl"
      },
      "source": [
        "# Results : \n",
        "\n",
        "|Act Func|initializer|train_loss|train_accuracy|test_loss|test_accuracy|\n",
        "|----|----|----|----|----|----|\n",
        "|relu|GlorotUniform|0.2378 |0.9109\t|0.3364 |0.8807|\n",
        "|relu|he_normal|0.2423 |0.9089\t|0.3358 |0.8867|\n",
        "|softmax|GlorotUniform|0.4847 |0.8383\t|0.5149 |0.8275|\n",
        "|softmax|glorot_normal|0.4730 |0.8419\t|0.5077 |0.8318|\n",
        "|sigmoid|GlorotUniform|0.2503 |0.9078\t|0.3451 |0.8767|\n",
        "|sigmoid|glorot_normal|0.2517 |0.9063\t|0.3325 |0.8791|\n",
        "|tanh|GlorotUniform|0.2396 |0.9101\t|0.3354 |0.8812|\n",
        "|tanh|glorot_normal|0.2433 |0.9086\t|0.3297 |0.8811|\n",
        "|selu|GlorotUniform|0.2470 |0.9064\t|0.3470 |0.8791|\n",
        "|selu|lucan_normal|0.2416 |0.9112\t|0.3346 |0.8812|"
      ]
    },
    {
      "cell_type": "markdown",
      "metadata": {
        "id": "a1tY6I0f4Dsl"
      },
      "source": [
        "**Observations**\n",
        "- By Default Dense layer have `Glorot Uniform` weight initializer.\n",
        "- `Softmax` performed `worst` with both the initializers.\n",
        "- Default weight initializer (GlorotUniform) performed worse in every activation function.\n",
        "- Order of model according to test_loss is : `tanh > selu > sigmoid > relu > softmax`.\n",
        "- Order of model according to test_accuracy is : `relu > tanh > sigmoid > sigmoid > softmax`."
      ]
    },
    {
      "cell_type": "code",
      "metadata": {
        "id": "ZMu9Qq8v9DLb"
      },
      "source": [
        ""
      ],
      "execution_count": null,
      "outputs": []
    }
  ]
}