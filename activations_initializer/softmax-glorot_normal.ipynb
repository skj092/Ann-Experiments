{
 "cells": [
  {
   "cell_type": "markdown",
   "id": "73e46cf8",
   "metadata": {},
   "source": [
    "# Aim : To Check the Sigmoid Activation Function "
   ]
  },
  {
   "cell_type": "code",
   "execution_count": 1,
   "id": "858f88dc",
   "metadata": {},
   "outputs": [
    {
     "name": "stdout",
     "output_type": "stream",
     "text": [
      "2.5.0\n"
     ]
    },
    {
     "name": "stderr",
     "output_type": "stream",
     "text": [
      "2021/06/13 15:24:06 WARNING mlflow.utils.autologging_utils: You are using an unsupported version of tensorflow. If you encounter errors during autologging, try upgrading / downgrading tensorflow to a supported version, or try upgrading MLflow.\n"
     ]
    },
    {
     "name": "stdout",
     "output_type": "stream",
     "text": [
      "Model: \"sequential\"\n",
      "_________________________________________________________________\n",
      "Layer (type)                 Output Shape              Param #   \n",
      "=================================================================\n",
      "flatten (Flatten)            (None, 784)               0         \n",
      "_________________________________________________________________\n",
      "dense (Dense)                (None, 128)               100480    \n",
      "_________________________________________________________________\n",
      "dense_1 (Dense)              (None, 10)                1290      \n",
      "=================================================================\n",
      "Total params: 101,770\n",
      "Trainable params: 101,770\n",
      "Non-trainable params: 0\n",
      "_________________________________________________________________\n"
     ]
    }
   ],
   "source": [
    "# TensorFlow and tf.keras\n",
    "import tensorflow as tf\n",
    "\n",
    "# Helper libraries\n",
    "import numpy as np\n",
    "from tensorflow.keras import initializers\n",
    "from tensorflow.python.keras import activations\n",
    "\n",
    "print(tf.__version__)\n",
    "\n",
    "# downloading fashion_mnist data\n",
    "fashion_mnist = tf.keras.datasets.fashion_mnist\n",
    "\n",
    "(train_images, train_labels), (test_images, test_labels) = fashion_mnist.load_data()\n",
    "\n",
    "class_names = ['T-shirt/top', 'Trouser', 'Pullover', 'Dress', 'Coat',\n",
    "               'Sandal', 'Shirt', 'Sneaker', 'Bag', 'Ankle boot']\n",
    "\n",
    "train_images = train_images / 255.0\n",
    "\n",
    "test_images = test_images / 255.0              \n",
    "\n",
    "\n",
    "import mlflow.tensorflow\n",
    "mlflow.tensorflow.autolog()\n",
    "\n",
    "activation = tf.keras.activations.softmax\n",
    "initializer = tf.keras.initializers.glorot_normal\n",
    "\n",
    "model = tf.keras.Sequential([\n",
    "tf.keras.layers.Flatten(input_shape=(28, 28)),\n",
    "tf.keras.layers.Dense(128, activation=activation, kernel_initializer=initializer),\n",
    "tf.keras.layers.Dense(10, kernel_initializer=initializer)\n",
    "])\n",
    "\n",
    "model.compile(optimizer='adam',loss=tf.keras.losses.SparseCategoricalCrossentropy(from_logits=True),metrics=['accuracy'])\n",
    "\n",
    "# model summary\n",
    "model.summary()"
   ]
  },
  {
   "cell_type": "code",
   "execution_count": 2,
   "id": "17ea3015",
   "metadata": {},
   "outputs": [
    {
     "name": "stdout",
     "output_type": "stream",
     "text": [
      "<tensorflow.python.keras.initializers.initializers_v2.GlorotNormal object at 0x000002F66665F220>\n",
      "<tensorflow.python.keras.initializers.initializers_v2.GlorotNormal object at 0x000002F66665F7C0>\n"
     ]
    }
   ],
   "source": [
    "# Checking weight initializer used \n",
    "print(model.layers[1].kernel_initializer)\n",
    "print(model.layers[2].kernel_initializer)"
   ]
  },
  {
   "cell_type": "code",
   "execution_count": 3,
   "id": "c466bce8",
   "metadata": {},
   "outputs": [
    {
     "name": "stdout",
     "output_type": "stream",
     "text": [
      "Epoch 1/10\n",
      "   3/1875 [..............................] - ETA: 2:24 - loss: 2.3019 - accuracy: 0.1146WARNING:tensorflow:Callback method `on_train_batch_end` is slow compared to the batch time (batch time: 0.0014s vs `on_train_batch_end` time: 0.0255s). Check your callbacks.\n",
      "1875/1875 [==============================] - 3s 2ms/step - loss: 1.3829 - accuracy: 0.6414\n",
      "Epoch 2/10\n",
      "1875/1875 [==============================] - 2s 1ms/step - loss: 0.8270 - accuracy: 0.6787\n",
      "Epoch 3/10\n",
      "1875/1875 [==============================] - 2s 1ms/step - loss: 0.7190 - accuracy: 0.6943\n",
      "Epoch 4/10\n",
      "1875/1875 [==============================] - 2s 1ms/step - loss: 0.6654 - accuracy: 0.7271\n",
      "Epoch 5/10\n",
      "1875/1875 [==============================] - 3s 1ms/step - loss: 0.6246 - accuracy: 0.7435\n",
      "Epoch 6/10\n",
      "1875/1875 [==============================] - 2s 1ms/step - loss: 0.6037 - accuracy: 0.7513\n",
      "Epoch 7/10\n",
      "1875/1875 [==============================] - 2s 1ms/step - loss: 0.5835 - accuracy: 0.7657\n",
      "Epoch 8/10\n",
      "1875/1875 [==============================] - 2s 1ms/step - loss: 0.5416 - accuracy: 0.8105\n",
      "Epoch 9/10\n",
      "1875/1875 [==============================] - 2s 1ms/step - loss: 0.5011 - accuracy: 0.8298\n",
      "Epoch 10/10\n",
      "1875/1875 [==============================] - 2s 1ms/step - loss: 0.4781 - accuracy: 0.8398\n",
      "INFO:tensorflow:Assets written to: C:\\Users\\SONURA~1.JHA\\AppData\\Local\\Temp\\tmp1sacgzir\\model\\data\\model\\assets\n",
      "313/313 - 0s - loss: 0.5092 - accuracy: 0.8320\n",
      "test_loss 0.5091651082038879\n",
      "test_accuracy 0.8320000171661377\n"
     ]
    }
   ],
   "source": [
    "with mlflow.start_run():\n",
    "\n",
    "    model.fit(train_images, train_labels, epochs=10)\n",
    "\n",
    "    test_loss, test_acc = model.evaluate(test_images,  test_labels, verbose=2)\n",
    "\n",
    "    print('test_loss', test_loss)\n",
    "    print('test_accuracy', test_acc)\n",
    "\n",
    "    mlflow.tensorflow.mlflow.log_metric('test_loss', test_loss)\n",
    "    mlflow.tensorflow.mlflow.log_metric('test_acc', test_acc)  \n",
    "    mlflow.tensorflow.mlflow.log_param('initializer', model.layers[1].kernel_initializer)\n",
    "    mlflow.tensorflow.mlflow.log_param('activation', activation)"
   ]
  },
  {
   "cell_type": "markdown",
   "id": "f45cc25c",
   "metadata": {},
   "source": [
    "### Observations:\n",
    "- For epoch = 10 we get `train_loss = 0.47`, `train_acc = 0.83`, `test_loss = 0.50`, `test_acc= 0.83`"
   ]
  },
  {
   "cell_type": "code",
   "execution_count": null,
   "id": "ee2d5895",
   "metadata": {},
   "outputs": [],
   "source": []
  }
 ],
 "metadata": {
  "kernelspec": {
   "display_name": "Python 3",
   "language": "python",
   "name": "python3"
  },
  "language_info": {
   "codemirror_mode": {
    "name": "ipython",
    "version": 3
   },
   "file_extension": ".py",
   "mimetype": "text/x-python",
   "name": "python",
   "nbconvert_exporter": "python",
   "pygments_lexer": "ipython3",
   "version": "3.9.5"
  }
 },
 "nbformat": 4,
 "nbformat_minor": 5
}
